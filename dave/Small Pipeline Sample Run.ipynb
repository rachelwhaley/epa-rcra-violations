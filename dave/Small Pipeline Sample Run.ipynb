{
 "cells": [
  {
   "cell_type": "markdown",
   "metadata": {},
   "source": [
    "### Project Progress Report\n",
    "#### Small Pipeline Sample Run\n",
    "\n",
    "Our pipeline so far runs decision trees on training and test sets in our data and returns evaluation metrics and predictions."
   ]
  },
  {
   "cell_type": "code",
   "execution_count": 4,
   "metadata": {},
   "outputs": [],
   "source": [
    "from small_pipe import * "
   ]
  },
  {
   "cell_type": "code",
   "execution_count": 3,
   "metadata": {},
   "outputs": [
    {
     "name": "stdout",
     "output_type": "stream",
     "text": [
      "  class       DT  threshold  precision    recall  \\\n",
      "0    DT     gini       0.05   0.128156  0.392958   \n",
      "1    DT     gini       0.50   0.110759  0.315011   \n",
      "2    DT     gini       0.90   0.105817  0.278457   \n",
      "3    DT  entropy       0.05   0.127816  0.391211   \n",
      "4    DT  entropy       0.50   0.110539  0.314339   \n",
      "5    DT  entropy       0.90   0.105381  0.277382   \n",
      "\n",
      "                                               preds  \\\n",
      "0  [0, 1, 0, 1, 0, 1, 1, 1, 1, 1, 1, 1, 1, 1, 1, ...   \n",
      "1  [0, 1, 0, 1, 0, 0, 1, 0, 1, 1, 1, 1, 1, 1, 1, ...   \n",
      "2  [0, 1, 0, 1, 0, 0, 1, 0, 1, 1, 1, 1, 1, 1, 1, ...   \n",
      "3  [0, 1, 0, 1, 0, 1, 1, 1, 1, 1, 1, 1, 1, 1, 1, ...   \n",
      "4  [0, 1, 0, 1, 0, 0, 1, 0, 1, 1, 1, 1, 1, 1, 1, ...   \n",
      "5  [0, 1, 0, 1, 0, 0, 1, 0, 1, 1, 1, 1, 1, 1, 1, ...   \n",
      "\n",
      "                                        top_features  \n",
      "0  [(EvalCount, 0.019610599502020817), (Sum_Viola...  \n",
      "1  [(EvalCount, 0.019610599502020817), (Sum_Viola...  \n",
      "2  [(EvalCount, 0.019610599502020817), (Sum_Viola...  \n",
      "3  [(EvalCount, 0.02103105362684467), (Sum_Violat...  \n",
      "4  [(EvalCount, 0.02103105362684467), (Sum_Violat...  \n",
      "5  [(EvalCount, 0.02103105362684467), (Sum_Violat...  \n"
     ]
    }
   ],
   "source": [
    "main()"
   ]
  },
  {
   "cell_type": "code",
   "execution_count": null,
   "metadata": {},
   "outputs": [],
   "source": []
  }
 ],
 "metadata": {
  "kernelspec": {
   "display_name": "Python 3",
   "language": "python",
   "name": "python3"
  },
  "language_info": {
   "codemirror_mode": {
    "name": "ipython",
    "version": 3
   },
   "file_extension": ".py",
   "mimetype": "text/x-python",
   "name": "python",
   "nbconvert_exporter": "python",
   "pygments_lexer": "ipython3",
   "version": "3.7.3"
  }
 },
 "nbformat": 4,
 "nbformat_minor": 2
}
