{
 "cells": [
  {
   "cell_type": "code",
   "execution_count": 1,
   "metadata": {},
   "outputs": [],
   "source": [
    "import pandas as pd\n",
    "import numpy as np\n",
    "import dave_pipelib as dp\n",
    "from plotnine import *\n",
    "from collections import Counter"
   ]
  },
  {
   "cell_type": "code",
   "execution_count": 2,
   "metadata": {},
   "outputs": [],
   "source": [
    "fcts = pd.read_csv('RCRA_FACILITIES.csv')\n",
    "vios = pd.read_csv('RCRA_VIOLATIONS.csv')"
   ]
  },
  {
   "cell_type": "code",
   "execution_count": 3,
   "metadata": {},
   "outputs": [
    {
     "data": {
      "text/plain": [
       "Index(['ID_NUMBER', 'FACILITY_NAME', 'ACTIVITY_LOCATION', 'FULL_ENFORCEMENT',\n",
       "       'HREPORT_UNIVERSE_RECORD', 'STREET_ADDRESS', 'CITY_NAME', 'STATE_CODE',\n",
       "       'ZIP_CODE', 'LATITUDE83', 'LONGITUDE83', 'FED_WASTE_GENERATOR',\n",
       "       'TRANSPORTER', 'ACTIVE_SITE', 'OPERATING_TSDF'],\n",
       "      dtype='object')"
      ]
     },
     "execution_count": 3,
     "metadata": {},
     "output_type": "execute_result"
    }
   ],
   "source": [
    "fcts.columns"
   ]
  },
  {
   "cell_type": "code",
   "execution_count": 4,
   "metadata": {},
   "outputs": [
    {
     "data": {
      "text/plain": [
       "Index(['ID_NUMBER', 'ACTIVITY_LOCATION', 'VIOLATION_TYPE',\n",
       "       'VIOLATION_TYPE_DESC', 'VIOL_DETERMINED_BY_AGENCY',\n",
       "       'DATE_VIOLATION_DETERMINED', 'ACTUAL_RTC_DATE',\n",
       "       'SCHEDULED_COMPLIANCE_DATE'],\n",
       "      dtype='object')"
      ]
     },
     "execution_count": 4,
     "metadata": {},
     "output_type": "execute_result"
    }
   ],
   "source": [
    "vios.columns"
   ]
  },
  {
   "cell_type": "code",
   "execution_count": 5,
   "metadata": {},
   "outputs": [
    {
     "data": {
      "text/plain": [
       "dtype('O')"
      ]
     },
     "execution_count": 5,
     "metadata": {},
     "output_type": "execute_result"
    }
   ],
   "source": [
    "vios.ID_NUMBER.dtype"
   ]
  },
  {
   "cell_type": "code",
   "execution_count": 6,
   "metadata": {},
   "outputs": [
    {
     "data": {
      "text/plain": [
       "dtype('O')"
      ]
     },
     "execution_count": 6,
     "metadata": {},
     "output_type": "execute_result"
    }
   ],
   "source": [
    "fcts.ID_NUMBER.dtype"
   ]
  },
  {
   "cell_type": "code",
   "execution_count": 7,
   "metadata": {},
   "outputs": [],
   "source": [
    "df = pd.merge(vios, fcts, how='left', on='ID_NUMBER')"
   ]
  },
  {
   "cell_type": "code",
   "execution_count": 8,
   "metadata": {},
   "outputs": [
    {
     "data": {
      "text/plain": [
       "Index(['ID_NUMBER', 'ACTIVITY_LOCATION_x', 'VIOLATION_TYPE',\n",
       "       'VIOLATION_TYPE_DESC', 'VIOL_DETERMINED_BY_AGENCY',\n",
       "       'DATE_VIOLATION_DETERMINED', 'ACTUAL_RTC_DATE',\n",
       "       'SCHEDULED_COMPLIANCE_DATE', 'FACILITY_NAME', 'ACTIVITY_LOCATION_y',\n",
       "       'FULL_ENFORCEMENT', 'HREPORT_UNIVERSE_RECORD', 'STREET_ADDRESS',\n",
       "       'CITY_NAME', 'STATE_CODE', 'ZIP_CODE', 'LATITUDE83', 'LONGITUDE83',\n",
       "       'FED_WASTE_GENERATOR', 'TRANSPORTER', 'ACTIVE_SITE', 'OPERATING_TSDF'],\n",
       "      dtype='object')"
      ]
     },
     "execution_count": 8,
     "metadata": {},
     "output_type": "execute_result"
    }
   ],
   "source": [
    "df.columns"
   ]
  },
  {
   "cell_type": "code",
   "execution_count": 9,
   "metadata": {},
   "outputs": [],
   "source": [
    "violations = df.groupby('VIOLATION_TYPE_DESC').ID_NUMBER.count()"
   ]
  },
  {
   "cell_type": "code",
   "execution_count": 10,
   "metadata": {},
   "outputs": [
    {
     "data": {
      "text/plain": [
       "VIOLATION_TYPE_DESC\n",
       "Standards Applicable to Generators of HW: General                                                          160787\n",
       "Standards Applicable to Generators of HW: Pre-Transport Requirements                                       100711\n",
       "State Statutory or Regulatory requirements that are broader-in-scope than the federal RCRA requirements     43922\n",
       "Standards Applicable to Generators of HW: Recordkeeping and Reporting                                       32097\n",
       "Standards for Used Oil Generators                                                                           26962\n",
       "Standards Applicable to Generators of HW: Manifest                                                          25301\n",
       "Land Disposal Restrictions: General                                                                         24594\n",
       "Standards for Owners and Operators of HW TSDs: General                                                      20483\n",
       "Standards for Universal Waste Management: Standards for Small Quantity Handlers                             19663\n",
       "Interim Status Standards for Owners and Operators of HW TSDs: Use and Management                            16134\n",
       "Standards for Owners and Operators of HW TSDs: General Facility Standards                                   10970\n",
       "Standards for Owners and Operators of HW TSDs: Financial Requirements                                        8893\n",
       "Interim Status Standards for Owners and Operators of HW TSDs: Preparedness and P                             8142\n",
       "ID and Listing of HW: General                                                                                7759\n",
       "Interim Status Standards for Owners and Operators of HW TSDs: General Fac Stds                               7742\n",
       "Standards for Owners and Operators of HW TSDs: Use and Management of Containers                              7535\n",
       "Interim Status Standards for Owners and Operators of HW TSDs: Contingency Plan a                             7445\n",
       "Standards for Owners and Operators of HW TSDs: Closure and Post-Closure                                      6289\n",
       "Interim Status Standards for Owners and Operators of HW TSDs: Ground-Water Moni                              5163\n",
       "Standards for Owners and Operators of HW TSDs: Contingency Plan and Emergency Pr                             4720\n",
       "Standards for Owners and Operators of HW TSDs: Preparedness and Prevention                                   4518\n",
       "Standards for Owners and Operators of HW TSDs: Manifest System, Recordkeeping, a                             4021\n",
       "Violation of a permit condition or requirement                                                               2707\n",
       "Standards Applicable to Transporters of HW: General                                                          2704\n",
       "Standards for Owners and Operators of HW TSDs: Tank Systems                                                  2660\n",
       "Name: ID_NUMBER, dtype: int64"
      ]
     },
     "execution_count": 10,
     "metadata": {},
     "output_type": "execute_result"
    }
   ],
   "source": [
    "violations.sort_values(ascending=False).head(25)"
   ]
  },
  {
   "cell_type": "code",
   "execution_count": 11,
   "metadata": {},
   "outputs": [
    {
     "data": {
      "text/plain": [
       "VIOL_DETERMINED_BY_AGENCY\n",
       "E       51734\n",
       "S      542646\n",
       "Name: ID_NUMBER, dtype: int64"
      ]
     },
     "execution_count": 11,
     "metadata": {},
     "output_type": "execute_result"
    }
   ],
   "source": [
    "vbyagency = df.groupby('VIOL_DETERMINED_BY_AGENCY').ID_NUMBER.count()\n",
    "vbyagency"
   ]
  },
  {
   "cell_type": "code",
   "execution_count": 12,
   "metadata": {},
   "outputs": [],
   "source": [
    "vbycity = df.groupby('CITY_NAME').ID_NUMBER.count()"
   ]
  },
  {
   "cell_type": "code",
   "execution_count": 13,
   "metadata": {},
   "outputs": [],
   "source": [
    "sorted_cities = vbycity.sort_values(ascending=False)"
   ]
  },
  {
   "cell_type": "code",
   "execution_count": 14,
   "metadata": {},
   "outputs": [],
   "source": [
    "top200cities = sorted_cities.head(200)"
   ]
  },
  {
   "cell_type": "code",
   "execution_count": 15,
   "metadata": {},
   "outputs": [
    {
     "data": {
      "text/plain": [
       "217379"
      ]
     },
     "execution_count": 15,
     "metadata": {},
     "output_type": "execute_result"
    }
   ],
   "source": [
    "top200cities.sum()"
   ]
  },
  {
   "cell_type": "code",
   "execution_count": 16,
   "metadata": {},
   "outputs": [
    {
     "data": {
      "text/plain": [
       "(10558,)"
      ]
     },
     "execution_count": 16,
     "metadata": {},
     "output_type": "execute_result"
    }
   ],
   "source": [
    "sorted_cities.shape"
   ]
  },
  {
   "cell_type": "markdown",
   "metadata": {},
   "source": [
    "~50% of violations happen in 200 cities. 10,558 cities overall"
   ]
  },
  {
   "cell_type": "code",
   "execution_count": 17,
   "metadata": {},
   "outputs": [
    {
     "data": {
      "text/plain": [
       "ID_NUMBER                         0\n",
       "ACTIVITY_LOCATION_x               0\n",
       "VIOLATION_TYPE                    0\n",
       "VIOLATION_TYPE_DESC               0\n",
       "VIOL_DETERMINED_BY_AGENCY         0\n",
       "DATE_VIOLATION_DETERMINED         0\n",
       "ACTUAL_RTC_DATE               12878\n",
       "SCHEDULED_COMPLIANCE_DATE    345626\n",
       "FACILITY_NAME                     2\n",
       "ACTIVITY_LOCATION_y               0\n",
       "FULL_ENFORCEMENT                  0\n",
       "HREPORT_UNIVERSE_RECORD          10\n",
       "STREET_ADDRESS                   66\n",
       "CITY_NAME                        69\n",
       "STATE_CODE                        0\n",
       "ZIP_CODE                         73\n",
       "LATITUDE83                   139644\n",
       "LONGITUDE83                  139644\n",
       "FED_WASTE_GENERATOR            3486\n",
       "TRANSPORTER                      73\n",
       "ACTIVE_SITE                       0\n",
       "OPERATING_TSDF                    0\n",
       "dtype: int64"
      ]
     },
     "execution_count": 17,
     "metadata": {},
     "output_type": "execute_result"
    }
   ],
   "source": [
    "df.isnull().sum()"
   ]
  },
  {
   "cell_type": "code",
   "execution_count": 18,
   "metadata": {},
   "outputs": [
    {
     "data": {
      "text/plain": [
       "0    09/10/1981\n",
       "Name: DATE_VIOLATION_DETERMINED, dtype: object"
      ]
     },
     "execution_count": 18,
     "metadata": {},
     "output_type": "execute_result"
    }
   ],
   "source": [
    "df.DATE_VIOLATION_DETERMINED.head(1)"
   ]
  },
  {
   "cell_type": "code",
   "execution_count": 19,
   "metadata": {},
   "outputs": [],
   "source": [
    "df[['M','D','Y']] = df['DATE_VIOLATION_DETERMINED'].str.split('/', expand=True)"
   ]
  },
  {
   "cell_type": "code",
   "execution_count": 20,
   "metadata": {},
   "outputs": [
    {
     "data": {
      "text/plain": [
       "<matplotlib.axes._subplots.AxesSubplot at 0x103405320>"
      ]
     },
     "execution_count": 20,
     "metadata": {},
     "output_type": "execute_result"
    },
    {
     "data": {
      "image/png": "[encoded data removed]",
      "text/plain": [
       "<Figure size 432x288 with 1 Axes>"
      ]
     },
     "metadata": {
      "needs_background": "light"
     },
     "output_type": "display_data"
    }
   ],
   "source": [
    "df.groupby('M').ID_NUMBER.count().plot()"
   ]
  },
  {
   "cell_type": "code",
   "execution_count": 21,
   "metadata": {},
   "outputs": [
    {
     "data": {
      "text/plain": [
       "<matplotlib.axes._subplots.AxesSubplot at 0x1c39b3f2b0>"
      ]
     },
     "execution_count": 21,
     "metadata": {},
     "output_type": "execute_result"
    },
    {
     "data": {
      "image/png": "[encoded data removed]",
      "text/plain": [
       "<Figure size 432x288 with 1 Axes>"
      ]
     },
     "metadata": {
      "needs_background": "light"
     },
     "output_type": "display_data"
    }
   ],
   "source": [
    "df.groupby('Y').ID_NUMBER.count().plot()"
   ]
  },
  {
   "cell_type": "code",
   "execution_count": 22,
   "metadata": {},
   "outputs": [],
   "source": [
    "df['VIOLATION_TYPE'] = df['VIOLATION_TYPE'].astype('category')"
   ]
  },
  {
   "cell_type": "code",
   "execution_count": 23,
   "metadata": {},
   "outputs": [],
   "source": [
    "df['M'] = df['M'].astype('category')"
   ]
  },
  {
   "cell_type": "code",
   "execution_count": 24,
   "metadata": {},
   "outputs": [],
   "source": [
    "df['Y'] = df['Y'].astype(int)"
   ]
  },
  {
   "cell_type": "code",
   "execution_count": 25,
   "metadata": {},
   "outputs": [
    {
     "data": {
      "text/plain": [
       "dtype('int64')"
      ]
     },
     "execution_count": 25,
     "metadata": {},
     "output_type": "execute_result"
    }
   ],
   "source": [
    "df.Y.dtype"
   ]
  },
  {
   "cell_type": "code",
   "execution_count": 26,
   "metadata": {},
   "outputs": [],
   "source": [
    "df['Y'] = df['Y'].apply(lambda x: x + 2000 if x <= 19 else x)"
   ]
  },
  {
   "cell_type": "code",
   "execution_count": 27,
   "metadata": {},
   "outputs": [],
   "source": [
    "df['Y'] = df['Y'].apply(lambda x: x + 100 if x <= 1919 else x)"
   ]
  },
  {
   "cell_type": "code",
   "execution_count": 28,
   "metadata": {},
   "outputs": [],
   "source": [
    "df['Y'] = df['Y'].apply(lambda x: x + 50 if x == 1943 else x)"
   ]
  },
  {
   "cell_type": "code",
   "execution_count": 29,
   "metadata": {},
   "outputs": [
    {
     "data": {
      "text/plain": [
       "array([1971, 1974, 1979, 1980, 1981, 1982, 1983, 1984, 1985, 1986, 1987,\n",
       "       1988, 1989, 1990, 1991, 1992, 1993, 1994, 1995, 1996, 1997, 1998,\n",
       "       1999, 2000, 2001, 2002, 2003, 2004, 2005, 2006, 2007, 2008, 2009,\n",
       "       2010, 2011, 2012, 2013, 2014, 2015, 2016, 2017, 2018, 2019])"
      ]
     },
     "execution_count": 29,
     "metadata": {},
     "output_type": "execute_result"
    }
   ],
   "source": [
    "np.sort(df.Y.unique())"
   ]
  },
  {
   "cell_type": "markdown",
   "metadata": {},
   "source": [
    "example of how ive been cleaning dates below:"
   ]
  },
  {
   "cell_type": "code",
   "execution_count": 30,
   "metadata": {
    "scrolled": true
   },
   "outputs": [
    {
     "data": {
      "text/html": [
       "<div>\n",
       "<style scoped>\n",
       "    .dataframe tbody tr th:only-of-type {\n",
       "        vertical-align: middle;\n",
       "    }\n",
       "\n",
       "    .dataframe tbody tr th {\n",
       "        vertical-align: top;\n",
       "    }\n",
       "\n",
       "    .dataframe thead th {\n",
       "        text-align: right;\n",
       "    }\n",
       "</style>\n",
       "<table border=\"1\" class=\"dataframe\">\n",
       "  <thead>\n",
       "    <tr style=\"text-align: right;\">\n",
       "      <th></th>\n",
       "      <th>ID_NUMBER</th>\n",
       "      <th>ACTIVITY_LOCATION_x</th>\n",
       "      <th>VIOLATION_TYPE</th>\n",
       "      <th>VIOLATION_TYPE_DESC</th>\n",
       "      <th>VIOL_DETERMINED_BY_AGENCY</th>\n",
       "      <th>DATE_VIOLATION_DETERMINED</th>\n",
       "      <th>ACTUAL_RTC_DATE</th>\n",
       "      <th>SCHEDULED_COMPLIANCE_DATE</th>\n",
       "      <th>FACILITY_NAME</th>\n",
       "      <th>ACTIVITY_LOCATION_y</th>\n",
       "      <th>...</th>\n",
       "      <th>ZIP_CODE</th>\n",
       "      <th>LATITUDE83</th>\n",
       "      <th>LONGITUDE83</th>\n",
       "      <th>FED_WASTE_GENERATOR</th>\n",
       "      <th>TRANSPORTER</th>\n",
       "      <th>ACTIVE_SITE</th>\n",
       "      <th>OPERATING_TSDF</th>\n",
       "      <th>M</th>\n",
       "      <th>D</th>\n",
       "      <th>Y</th>\n",
       "    </tr>\n",
       "  </thead>\n",
       "  <tbody>\n",
       "    <tr>\n",
       "      <th>321067</th>\n",
       "      <td>NJD040749756</td>\n",
       "      <td>NJ</td>\n",
       "      <td>262.A</td>\n",
       "      <td>Standards Applicable to Generators of HW: General</td>\n",
       "      <td>S</td>\n",
       "      <td>06/11/1971</td>\n",
       "      <td>08/01/1991</td>\n",
       "      <td>07/11/1991</td>\n",
       "      <td>RIVERDALE QUARRY CO</td>\n",
       "      <td>NJ</td>\n",
       "      <td>...</td>\n",
       "      <td>07457</td>\n",
       "      <td>40.998054</td>\n",
       "      <td>-74.307919</td>\n",
       "      <td>N</td>\n",
       "      <td>N</td>\n",
       "      <td>-----</td>\n",
       "      <td>------</td>\n",
       "      <td>06</td>\n",
       "      <td>11</td>\n",
       "      <td>1971</td>\n",
       "    </tr>\n",
       "  </tbody>\n",
       "</table>\n",
       "<p>1 rows × 25 columns</p>\n",
       "</div>"
      ],
      "text/plain": [
       "           ID_NUMBER ACTIVITY_LOCATION_x VIOLATION_TYPE  \\\n",
       "321067  NJD040749756                  NJ          262.A   \n",
       "\n",
       "                                      VIOLATION_TYPE_DESC  \\\n",
       "321067  Standards Applicable to Generators of HW: General   \n",
       "\n",
       "       VIOL_DETERMINED_BY_AGENCY DATE_VIOLATION_DETERMINED ACTUAL_RTC_DATE  \\\n",
       "321067                       S                  06/11/1971      08/01/1991   \n",
       "\n",
       "       SCHEDULED_COMPLIANCE_DATE        FACILITY_NAME ACTIVITY_LOCATION_y  \\\n",
       "321067                07/11/1991  RIVERDALE QUARRY CO                  NJ   \n",
       "\n",
       "        ... ZIP_CODE LATITUDE83 LONGITUDE83 FED_WASTE_GENERATOR TRANSPORTER  \\\n",
       "321067  ...    07457  40.998054  -74.307919                 N           N     \n",
       "\n",
       "       ACTIVE_SITE   OPERATING_TSDF   M   D     Y  \n",
       "321067       -----  ------           06  11  1971  \n",
       "\n",
       "[1 rows x 25 columns]"
      ]
     },
     "execution_count": 30,
     "metadata": {},
     "output_type": "execute_result"
    }
   ],
   "source": [
    "df[df['Y'] == 1971]"
   ]
  },
  {
   "cell_type": "code",
   "execution_count": 31,
   "metadata": {},
   "outputs": [],
   "source": [
    "df['Y'] = df['Y'].apply(lambda x: x + 20 if x ==1971 else x)"
   ]
  },
  {
   "cell_type": "code",
   "execution_count": 32,
   "metadata": {},
   "outputs": [
    {
     "data": {
      "text/plain": [
       "array([1981, 1984, 1987, 1993, 1994, 2000, 1991, 1997, 1992, 2015, 1989,\n",
       "       1998, 1988, 1995, 1999, 1996, 2001, 2009, 2002, 1990, 1986, 2012,\n",
       "       1985, 2016, 1983, 2006, 1980, 1982, 2007, 2004, 2008, 2005, 2003,\n",
       "       2011, 2014, 2013, 2010, 2017, 2018, 2019, 1974, 1979])"
      ]
     },
     "execution_count": 32,
     "metadata": {},
     "output_type": "execute_result"
    }
   ],
   "source": [
    "df.Y.unique()"
   ]
  },
  {
   "cell_type": "code",
   "execution_count": 33,
   "metadata": {},
   "outputs": [],
   "source": [
    "df['Y'] = df.Y.apply(lambda x: x + 20 if x == 1974 else x)"
   ]
  },
  {
   "cell_type": "code",
   "execution_count": 34,
   "metadata": {},
   "outputs": [
    {
     "data": {
      "text/plain": [
       "1979"
      ]
     },
     "execution_count": 34,
     "metadata": {},
     "output_type": "execute_result"
    }
   ],
   "source": [
    "df.Y.min()"
   ]
  },
  {
   "cell_type": "code",
   "execution_count": 35,
   "metadata": {},
   "outputs": [],
   "source": [
    "df['Y'] = df.Y.apply(lambda x: 1997 if x == 1979 else x)"
   ]
  },
  {
   "cell_type": "code",
   "execution_count": 36,
   "metadata": {},
   "outputs": [
    {
     "data": {
      "text/plain": [
       "1980"
      ]
     },
     "execution_count": 36,
     "metadata": {},
     "output_type": "execute_result"
    }
   ],
   "source": [
    "df.Y.min()"
   ]
  },
  {
   "cell_type": "code",
   "execution_count": 37,
   "metadata": {},
   "outputs": [
    {
     "data": {
      "text/html": [
       "<div>\n",
       "<style scoped>\n",
       "    .dataframe tbody tr th:only-of-type {\n",
       "        vertical-align: middle;\n",
       "    }\n",
       "\n",
       "    .dataframe tbody tr th {\n",
       "        vertical-align: top;\n",
       "    }\n",
       "\n",
       "    .dataframe thead th {\n",
       "        text-align: right;\n",
       "    }\n",
       "</style>\n",
       "<table border=\"1\" class=\"dataframe\">\n",
       "  <thead>\n",
       "    <tr style=\"text-align: right;\">\n",
       "      <th></th>\n",
       "      <th>ID_NUMBER</th>\n",
       "      <th>ACTIVITY_LOCATION_x</th>\n",
       "      <th>VIOLATION_TYPE</th>\n",
       "      <th>VIOLATION_TYPE_DESC</th>\n",
       "      <th>VIOL_DETERMINED_BY_AGENCY</th>\n",
       "      <th>DATE_VIOLATION_DETERMINED</th>\n",
       "      <th>ACTUAL_RTC_DATE</th>\n",
       "      <th>SCHEDULED_COMPLIANCE_DATE</th>\n",
       "      <th>FACILITY_NAME</th>\n",
       "      <th>ACTIVITY_LOCATION_y</th>\n",
       "      <th>...</th>\n",
       "      <th>ZIP_CODE</th>\n",
       "      <th>LATITUDE83</th>\n",
       "      <th>LONGITUDE83</th>\n",
       "      <th>FED_WASTE_GENERATOR</th>\n",
       "      <th>TRANSPORTER</th>\n",
       "      <th>ACTIVE_SITE</th>\n",
       "      <th>OPERATING_TSDF</th>\n",
       "      <th>M</th>\n",
       "      <th>D</th>\n",
       "      <th>Y</th>\n",
       "    </tr>\n",
       "  </thead>\n",
       "  <tbody>\n",
       "    <tr>\n",
       "      <th>872</th>\n",
       "      <td>CT5000001941</td>\n",
       "      <td>CT</td>\n",
       "      <td>262.A</td>\n",
       "      <td>Standards Applicable to Generators of HW: General</td>\n",
       "      <td>S</td>\n",
       "      <td>06/25/1980</td>\n",
       "      <td>04/20/1995</td>\n",
       "      <td>07/05/1980</td>\n",
       "      <td>B &amp; R MFG CO INC</td>\n",
       "      <td>CT</td>\n",
       "      <td>...</td>\n",
       "      <td>06716</td>\n",
       "      <td>41.569438</td>\n",
       "      <td>-72.987484</td>\n",
       "      <td>N</td>\n",
       "      <td>N</td>\n",
       "      <td>-----</td>\n",
       "      <td>------</td>\n",
       "      <td>06</td>\n",
       "      <td>25</td>\n",
       "      <td>1980</td>\n",
       "    </tr>\n",
       "    <tr>\n",
       "      <th>26778</th>\n",
       "      <td>MND006252589</td>\n",
       "      <td>MN</td>\n",
       "      <td>264.B</td>\n",
       "      <td>Standards for Owners and Operators of HW TSDs:...</td>\n",
       "      <td>S</td>\n",
       "      <td>12/16/1980</td>\n",
       "      <td>03/19/1984</td>\n",
       "      <td>03/20/1981</td>\n",
       "      <td>BODYCOTE THERMAL PROCESSING MINNEAPOLIS</td>\n",
       "      <td>MN</td>\n",
       "      <td>...</td>\n",
       "      <td>55414</td>\n",
       "      <td>44.991524</td>\n",
       "      <td>-93.242039</td>\n",
       "      <td>3</td>\n",
       "      <td>N</td>\n",
       "      <td>H----</td>\n",
       "      <td>------</td>\n",
       "      <td>12</td>\n",
       "      <td>16</td>\n",
       "      <td>1980</td>\n",
       "    </tr>\n",
       "    <tr>\n",
       "      <th>59903</th>\n",
       "      <td>COD076455955</td>\n",
       "      <td>CO</td>\n",
       "      <td>262.A</td>\n",
       "      <td>Standards Applicable to Generators of HW: General</td>\n",
       "      <td>E</td>\n",
       "      <td>12/10/1980</td>\n",
       "      <td>03/29/1981</td>\n",
       "      <td>04/11/1981</td>\n",
       "      <td>TOSCO CORP ROCKY FLATS RESEARCH CENTER</td>\n",
       "      <td>CO</td>\n",
       "      <td>...</td>\n",
       "      <td>80401</td>\n",
       "      <td>39.871254</td>\n",
       "      <td>-105.260476</td>\n",
       "      <td>N</td>\n",
       "      <td>N</td>\n",
       "      <td>-----</td>\n",
       "      <td>------</td>\n",
       "      <td>12</td>\n",
       "      <td>10</td>\n",
       "      <td>1980</td>\n",
       "    </tr>\n",
       "    <tr>\n",
       "      <th>190822</th>\n",
       "      <td>NYD058281304</td>\n",
       "      <td>NY</td>\n",
       "      <td>262.B</td>\n",
       "      <td>Standards Applicable to Generators of HW: Mani...</td>\n",
       "      <td>E</td>\n",
       "      <td>12/18/1980</td>\n",
       "      <td>08/27/1981</td>\n",
       "      <td>08/27/1981</td>\n",
       "      <td>BERG CHEMICAL CO INC</td>\n",
       "      <td>NY</td>\n",
       "      <td>...</td>\n",
       "      <td>10454</td>\n",
       "      <td>40.798516</td>\n",
       "      <td>-73.910807</td>\n",
       "      <td>N</td>\n",
       "      <td>N</td>\n",
       "      <td>-----</td>\n",
       "      <td>------</td>\n",
       "      <td>12</td>\n",
       "      <td>18</td>\n",
       "      <td>1980</td>\n",
       "    </tr>\n",
       "    <tr>\n",
       "      <th>209168</th>\n",
       "      <td>COD048126726</td>\n",
       "      <td>CO</td>\n",
       "      <td>264.A</td>\n",
       "      <td>Standards for Owners and Operators of HW TSDs:...</td>\n",
       "      <td>E</td>\n",
       "      <td>12/31/1980</td>\n",
       "      <td>11/10/1981</td>\n",
       "      <td>NaN</td>\n",
       "      <td>EAGLE PICHER TECHNOLOGIES LLC</td>\n",
       "      <td>CO</td>\n",
       "      <td>...</td>\n",
       "      <td>80911</td>\n",
       "      <td>38.780687</td>\n",
       "      <td>-104.739006</td>\n",
       "      <td>N</td>\n",
       "      <td>N</td>\n",
       "      <td>--A--</td>\n",
       "      <td>------</td>\n",
       "      <td>12</td>\n",
       "      <td>31</td>\n",
       "      <td>1980</td>\n",
       "    </tr>\n",
       "    <tr>\n",
       "      <th>212754</th>\n",
       "      <td>OHD020273819</td>\n",
       "      <td>OH</td>\n",
       "      <td>264.B</td>\n",
       "      <td>Standards for Owners and Operators of HW TSDs:...</td>\n",
       "      <td>S</td>\n",
       "      <td>12/02/1980</td>\n",
       "      <td>01/28/1981</td>\n",
       "      <td>NaN</td>\n",
       "      <td>VICKERY ENVIRONMENTAL INC</td>\n",
       "      <td>OH</td>\n",
       "      <td>...</td>\n",
       "      <td>43464</td>\n",
       "      <td>41.370750</td>\n",
       "      <td>-82.955888</td>\n",
       "      <td>1</td>\n",
       "      <td>N</td>\n",
       "      <td>HPA--</td>\n",
       "      <td>---ST-</td>\n",
       "      <td>12</td>\n",
       "      <td>02</td>\n",
       "      <td>1980</td>\n",
       "    </tr>\n",
       "    <tr>\n",
       "      <th>227342</th>\n",
       "      <td>COD007057961</td>\n",
       "      <td>CO</td>\n",
       "      <td>264.A</td>\n",
       "      <td>Standards for Owners and Operators of HW TSDs:...</td>\n",
       "      <td>E</td>\n",
       "      <td>12/16/1980</td>\n",
       "      <td>10/03/1981</td>\n",
       "      <td>NaN</td>\n",
       "      <td>EVRAZ ROCKY MOUNTAIN STEEL</td>\n",
       "      <td>CO</td>\n",
       "      <td>...</td>\n",
       "      <td>81004</td>\n",
       "      <td>38.254167</td>\n",
       "      <td>-104.575000</td>\n",
       "      <td>1</td>\n",
       "      <td>N</td>\n",
       "      <td>HPA--</td>\n",
       "      <td>------</td>\n",
       "      <td>12</td>\n",
       "      <td>16</td>\n",
       "      <td>1980</td>\n",
       "    </tr>\n",
       "    <tr>\n",
       "      <th>245843</th>\n",
       "      <td>COD000818146</td>\n",
       "      <td>CO</td>\n",
       "      <td>264.A</td>\n",
       "      <td>Standards for Owners and Operators of HW TSDs:...</td>\n",
       "      <td>E</td>\n",
       "      <td>08/15/1980</td>\n",
       "      <td>08/14/1984</td>\n",
       "      <td>09/15/1980</td>\n",
       "      <td>AERRCO (JEFFERSON COUNTY)</td>\n",
       "      <td>CO</td>\n",
       "      <td>...</td>\n",
       "      <td>80005</td>\n",
       "      <td>39.856829</td>\n",
       "      <td>-105.188521</td>\n",
       "      <td>N</td>\n",
       "      <td>N</td>\n",
       "      <td>-----</td>\n",
       "      <td>------</td>\n",
       "      <td>08</td>\n",
       "      <td>15</td>\n",
       "      <td>1980</td>\n",
       "    </tr>\n",
       "    <tr>\n",
       "      <th>246116</th>\n",
       "      <td>COD048126726</td>\n",
       "      <td>CO</td>\n",
       "      <td>264.A</td>\n",
       "      <td>Standards for Owners and Operators of HW TSDs:...</td>\n",
       "      <td>E</td>\n",
       "      <td>12/31/1980</td>\n",
       "      <td>11/10/1981</td>\n",
       "      <td>11/24/1981</td>\n",
       "      <td>EAGLE PICHER TECHNOLOGIES LLC</td>\n",
       "      <td>CO</td>\n",
       "      <td>...</td>\n",
       "      <td>80911</td>\n",
       "      <td>38.780687</td>\n",
       "      <td>-104.739006</td>\n",
       "      <td>N</td>\n",
       "      <td>N</td>\n",
       "      <td>--A--</td>\n",
       "      <td>------</td>\n",
       "      <td>12</td>\n",
       "      <td>31</td>\n",
       "      <td>1980</td>\n",
       "    </tr>\n",
       "    <tr>\n",
       "      <th>286903</th>\n",
       "      <td>OHD020273819</td>\n",
       "      <td>OH</td>\n",
       "      <td>262.B</td>\n",
       "      <td>Standards Applicable to Generators of HW: Mani...</td>\n",
       "      <td>S</td>\n",
       "      <td>12/02/1980</td>\n",
       "      <td>01/28/1981</td>\n",
       "      <td>NaN</td>\n",
       "      <td>VICKERY ENVIRONMENTAL INC</td>\n",
       "      <td>OH</td>\n",
       "      <td>...</td>\n",
       "      <td>43464</td>\n",
       "      <td>41.370750</td>\n",
       "      <td>-82.955888</td>\n",
       "      <td>1</td>\n",
       "      <td>N</td>\n",
       "      <td>HPA--</td>\n",
       "      <td>---ST-</td>\n",
       "      <td>12</td>\n",
       "      <td>02</td>\n",
       "      <td>1980</td>\n",
       "    </tr>\n",
       "    <tr>\n",
       "      <th>305308</th>\n",
       "      <td>OHD020273819</td>\n",
       "      <td>OH</td>\n",
       "      <td>264.K</td>\n",
       "      <td>Standards for Owners and Operators of HW TSDs:...</td>\n",
       "      <td>S</td>\n",
       "      <td>12/02/1980</td>\n",
       "      <td>01/28/1981</td>\n",
       "      <td>NaN</td>\n",
       "      <td>VICKERY ENVIRONMENTAL INC</td>\n",
       "      <td>OH</td>\n",
       "      <td>...</td>\n",
       "      <td>43464</td>\n",
       "      <td>41.370750</td>\n",
       "      <td>-82.955888</td>\n",
       "      <td>1</td>\n",
       "      <td>N</td>\n",
       "      <td>HPA--</td>\n",
       "      <td>---ST-</td>\n",
       "      <td>12</td>\n",
       "      <td>02</td>\n",
       "      <td>1980</td>\n",
       "    </tr>\n",
       "    <tr>\n",
       "      <th>320250</th>\n",
       "      <td>COD007092513</td>\n",
       "      <td>CO</td>\n",
       "      <td>262.A</td>\n",
       "      <td>Standards Applicable to Generators of HW: General</td>\n",
       "      <td>E</td>\n",
       "      <td>12/02/1980</td>\n",
       "      <td>07/16/1981</td>\n",
       "      <td>07/30/1981</td>\n",
       "      <td>WESTERN FORGE</td>\n",
       "      <td>CO</td>\n",
       "      <td>...</td>\n",
       "      <td>80907</td>\n",
       "      <td>38.899427</td>\n",
       "      <td>-104.841306</td>\n",
       "      <td>1</td>\n",
       "      <td>N</td>\n",
       "      <td>H----</td>\n",
       "      <td>------</td>\n",
       "      <td>12</td>\n",
       "      <td>02</td>\n",
       "      <td>1980</td>\n",
       "    </tr>\n",
       "    <tr>\n",
       "      <th>375743</th>\n",
       "      <td>COD082657420</td>\n",
       "      <td>CO</td>\n",
       "      <td>262.A</td>\n",
       "      <td>Standards Applicable to Generators of HW: General</td>\n",
       "      <td>E</td>\n",
       "      <td>12/02/1980</td>\n",
       "      <td>09/14/1981</td>\n",
       "      <td>NaN</td>\n",
       "      <td>SCHLAGE LOCK COMPANY LLC</td>\n",
       "      <td>CO</td>\n",
       "      <td>...</td>\n",
       "      <td>80911-1230</td>\n",
       "      <td>38.772658</td>\n",
       "      <td>-104.739286</td>\n",
       "      <td>1</td>\n",
       "      <td>N</td>\n",
       "      <td>H-A--</td>\n",
       "      <td>------</td>\n",
       "      <td>12</td>\n",
       "      <td>02</td>\n",
       "      <td>1980</td>\n",
       "    </tr>\n",
       "    <tr>\n",
       "      <th>412587</th>\n",
       "      <td>COD007057995</td>\n",
       "      <td>CO</td>\n",
       "      <td>262.A</td>\n",
       "      <td>Standards Applicable to Generators of HW: General</td>\n",
       "      <td>E</td>\n",
       "      <td>11/24/1980</td>\n",
       "      <td>04/30/1981</td>\n",
       "      <td>04/30/1981</td>\n",
       "      <td>BPI-WESTMINSTER/HAMILTON SUNDSTRAND</td>\n",
       "      <td>CO</td>\n",
       "      <td>...</td>\n",
       "      <td>80221</td>\n",
       "      <td>39.821881</td>\n",
       "      <td>-105.015718</td>\n",
       "      <td>N</td>\n",
       "      <td>N</td>\n",
       "      <td>--A--</td>\n",
       "      <td>------</td>\n",
       "      <td>11</td>\n",
       "      <td>24</td>\n",
       "      <td>1980</td>\n",
       "    </tr>\n",
       "    <tr>\n",
       "      <th>416228</th>\n",
       "      <td>OHD004163549</td>\n",
       "      <td>OH</td>\n",
       "      <td>262.A</td>\n",
       "      <td>Standards Applicable to Generators of HW: General</td>\n",
       "      <td>S</td>\n",
       "      <td>01/11/1980</td>\n",
       "      <td>09/01/1982</td>\n",
       "      <td>01/11/1980</td>\n",
       "      <td>ALSIDE INC</td>\n",
       "      <td>OH</td>\n",
       "      <td>...</td>\n",
       "      <td>44223</td>\n",
       "      <td>41.208333</td>\n",
       "      <td>-81.525000</td>\n",
       "      <td>N</td>\n",
       "      <td>N</td>\n",
       "      <td>--A--</td>\n",
       "      <td>------</td>\n",
       "      <td>01</td>\n",
       "      <td>11</td>\n",
       "      <td>1980</td>\n",
       "    </tr>\n",
       "    <tr>\n",
       "      <th>504173</th>\n",
       "      <td>FLD004092839</td>\n",
       "      <td>FL</td>\n",
       "      <td>262.A</td>\n",
       "      <td>Standards Applicable to Generators of HW: General</td>\n",
       "      <td>E</td>\n",
       "      <td>06/09/1980</td>\n",
       "      <td>10/09/1980</td>\n",
       "      <td>NaN</td>\n",
       "      <td>ENVIROFOCUS TECHNOLOGIES LLC</td>\n",
       "      <td>FL</td>\n",
       "      <td>...</td>\n",
       "      <td>33619-2901</td>\n",
       "      <td>27.962565</td>\n",
       "      <td>-82.381893</td>\n",
       "      <td>1</td>\n",
       "      <td>N</td>\n",
       "      <td>HPA--</td>\n",
       "      <td>---S--</td>\n",
       "      <td>06</td>\n",
       "      <td>09</td>\n",
       "      <td>1980</td>\n",
       "    </tr>\n",
       "    <tr>\n",
       "      <th>505383</th>\n",
       "      <td>COD007057961</td>\n",
       "      <td>CO</td>\n",
       "      <td>264.A</td>\n",
       "      <td>Standards for Owners and Operators of HW TSDs:...</td>\n",
       "      <td>E</td>\n",
       "      <td>12/16/1980</td>\n",
       "      <td>10/03/1981</td>\n",
       "      <td>10/03/1981</td>\n",
       "      <td>EVRAZ ROCKY MOUNTAIN STEEL</td>\n",
       "      <td>CO</td>\n",
       "      <td>...</td>\n",
       "      <td>81004</td>\n",
       "      <td>38.254167</td>\n",
       "      <td>-104.575000</td>\n",
       "      <td>1</td>\n",
       "      <td>N</td>\n",
       "      <td>HPA--</td>\n",
       "      <td>------</td>\n",
       "      <td>12</td>\n",
       "      <td>16</td>\n",
       "      <td>1980</td>\n",
       "    </tr>\n",
       "    <tr>\n",
       "      <th>524198</th>\n",
       "      <td>COD007092513</td>\n",
       "      <td>CO</td>\n",
       "      <td>262.A</td>\n",
       "      <td>Standards Applicable to Generators of HW: General</td>\n",
       "      <td>E</td>\n",
       "      <td>12/02/1980</td>\n",
       "      <td>07/16/1981</td>\n",
       "      <td>NaN</td>\n",
       "      <td>WESTERN FORGE</td>\n",
       "      <td>CO</td>\n",
       "      <td>...</td>\n",
       "      <td>80907</td>\n",
       "      <td>38.899427</td>\n",
       "      <td>-104.841306</td>\n",
       "      <td>1</td>\n",
       "      <td>N</td>\n",
       "      <td>H----</td>\n",
       "      <td>------</td>\n",
       "      <td>12</td>\n",
       "      <td>02</td>\n",
       "      <td>1980</td>\n",
       "    </tr>\n",
       "    <tr>\n",
       "      <th>525355</th>\n",
       "      <td>OHD004163549</td>\n",
       "      <td>OH</td>\n",
       "      <td>262.A</td>\n",
       "      <td>Standards Applicable to Generators of HW: General</td>\n",
       "      <td>S</td>\n",
       "      <td>01/11/1980</td>\n",
       "      <td>09/01/1982</td>\n",
       "      <td>02/11/1980</td>\n",
       "      <td>ALSIDE INC</td>\n",
       "      <td>OH</td>\n",
       "      <td>...</td>\n",
       "      <td>44223</td>\n",
       "      <td>41.208333</td>\n",
       "      <td>-81.525000</td>\n",
       "      <td>N</td>\n",
       "      <td>N</td>\n",
       "      <td>--A--</td>\n",
       "      <td>------</td>\n",
       "      <td>01</td>\n",
       "      <td>11</td>\n",
       "      <td>1980</td>\n",
       "    </tr>\n",
       "    <tr>\n",
       "      <th>542425</th>\n",
       "      <td>COD007057995</td>\n",
       "      <td>CO</td>\n",
       "      <td>262.A</td>\n",
       "      <td>Standards Applicable to Generators of HW: General</td>\n",
       "      <td>E</td>\n",
       "      <td>11/24/1980</td>\n",
       "      <td>04/30/1981</td>\n",
       "      <td>NaN</td>\n",
       "      <td>BPI-WESTMINSTER/HAMILTON SUNDSTRAND</td>\n",
       "      <td>CO</td>\n",
       "      <td>...</td>\n",
       "      <td>80221</td>\n",
       "      <td>39.821881</td>\n",
       "      <td>-105.015718</td>\n",
       "      <td>N</td>\n",
       "      <td>N</td>\n",
       "      <td>--A--</td>\n",
       "      <td>------</td>\n",
       "      <td>11</td>\n",
       "      <td>24</td>\n",
       "      <td>1980</td>\n",
       "    </tr>\n",
       "    <tr>\n",
       "      <th>561343</th>\n",
       "      <td>COD082657420</td>\n",
       "      <td>CO</td>\n",
       "      <td>262.A</td>\n",
       "      <td>Standards Applicable to Generators of HW: General</td>\n",
       "      <td>E</td>\n",
       "      <td>12/02/1980</td>\n",
       "      <td>09/14/1981</td>\n",
       "      <td>09/23/1981</td>\n",
       "      <td>SCHLAGE LOCK COMPANY LLC</td>\n",
       "      <td>CO</td>\n",
       "      <td>...</td>\n",
       "      <td>80911-1230</td>\n",
       "      <td>38.772658</td>\n",
       "      <td>-104.739286</td>\n",
       "      <td>1</td>\n",
       "      <td>N</td>\n",
       "      <td>H-A--</td>\n",
       "      <td>------</td>\n",
       "      <td>12</td>\n",
       "      <td>02</td>\n",
       "      <td>1980</td>\n",
       "    </tr>\n",
       "    <tr>\n",
       "      <th>562481</th>\n",
       "      <td>OHD000717140</td>\n",
       "      <td>OH</td>\n",
       "      <td>264.A</td>\n",
       "      <td>Standards for Owners and Operators of HW TSDs:...</td>\n",
       "      <td>E</td>\n",
       "      <td>12/17/1980</td>\n",
       "      <td>02/07/2002</td>\n",
       "      <td>NaN</td>\n",
       "      <td>PETERS J V AND CO</td>\n",
       "      <td>OH</td>\n",
       "      <td>...</td>\n",
       "      <td>44062</td>\n",
       "      <td>41.493976</td>\n",
       "      <td>-81.032679</td>\n",
       "      <td>N</td>\n",
       "      <td>N</td>\n",
       "      <td>-----</td>\n",
       "      <td>------</td>\n",
       "      <td>12</td>\n",
       "      <td>17</td>\n",
       "      <td>1980</td>\n",
       "    </tr>\n",
       "    <tr>\n",
       "      <th>564951</th>\n",
       "      <td>OHD020273819</td>\n",
       "      <td>OH</td>\n",
       "      <td>264.L</td>\n",
       "      <td>Standards for Owners and Operators of HW TSDs:...</td>\n",
       "      <td>S</td>\n",
       "      <td>12/02/1980</td>\n",
       "      <td>01/28/1981</td>\n",
       "      <td>NaN</td>\n",
       "      <td>VICKERY ENVIRONMENTAL INC</td>\n",
       "      <td>OH</td>\n",
       "      <td>...</td>\n",
       "      <td>43464</td>\n",
       "      <td>41.370750</td>\n",
       "      <td>-82.955888</td>\n",
       "      <td>1</td>\n",
       "      <td>N</td>\n",
       "      <td>HPA--</td>\n",
       "      <td>---ST-</td>\n",
       "      <td>12</td>\n",
       "      <td>02</td>\n",
       "      <td>1980</td>\n",
       "    </tr>\n",
       "  </tbody>\n",
       "</table>\n",
       "<p>23 rows × 25 columns</p>\n",
       "</div>"
      ],
      "text/plain": [
       "           ID_NUMBER ACTIVITY_LOCATION_x VIOLATION_TYPE  \\\n",
       "872     CT5000001941                  CT          262.A   \n",
       "26778   MND006252589                  MN          264.B   \n",
       "59903   COD076455955                  CO          262.A   \n",
       "190822  NYD058281304                  NY          262.B   \n",
       "209168  COD048126726                  CO          264.A   \n",
       "212754  OHD020273819                  OH          264.B   \n",
       "227342  COD007057961                  CO          264.A   \n",
       "245843  COD000818146                  CO          264.A   \n",
       "246116  COD048126726                  CO          264.A   \n",
       "286903  OHD020273819                  OH          262.B   \n",
       "305308  OHD020273819                  OH          264.K   \n",
       "320250  COD007092513                  CO          262.A   \n",
       "375743  COD082657420                  CO          262.A   \n",
       "412587  COD007057995                  CO          262.A   \n",
       "416228  OHD004163549                  OH          262.A   \n",
       "504173  FLD004092839                  FL          262.A   \n",
       "505383  COD007057961                  CO          264.A   \n",
       "524198  COD007092513                  CO          262.A   \n",
       "525355  OHD004163549                  OH          262.A   \n",
       "542425  COD007057995                  CO          262.A   \n",
       "561343  COD082657420                  CO          262.A   \n",
       "562481  OHD000717140                  OH          264.A   \n",
       "564951  OHD020273819                  OH          264.L   \n",
       "\n",
       "                                      VIOLATION_TYPE_DESC  \\\n",
       "872     Standards Applicable to Generators of HW: General   \n",
       "26778   Standards for Owners and Operators of HW TSDs:...   \n",
       "59903   Standards Applicable to Generators of HW: General   \n",
       "190822  Standards Applicable to Generators of HW: Mani...   \n",
       "209168  Standards for Owners and Operators of HW TSDs:...   \n",
       "212754  Standards for Owners and Operators of HW TSDs:...   \n",
       "227342  Standards for Owners and Operators of HW TSDs:...   \n",
       "245843  Standards for Owners and Operators of HW TSDs:...   \n",
       "246116  Standards for Owners and Operators of HW TSDs:...   \n",
       "286903  Standards Applicable to Generators of HW: Mani...   \n",
       "305308  Standards for Owners and Operators of HW TSDs:...   \n",
       "320250  Standards Applicable to Generators of HW: General   \n",
       "375743  Standards Applicable to Generators of HW: General   \n",
       "412587  Standards Applicable to Generators of HW: General   \n",
       "416228  Standards Applicable to Generators of HW: General   \n",
       "504173  Standards Applicable to Generators of HW: General   \n",
       "505383  Standards for Owners and Operators of HW TSDs:...   \n",
       "524198  Standards Applicable to Generators of HW: General   \n",
       "525355  Standards Applicable to Generators of HW: General   \n",
       "542425  Standards Applicable to Generators of HW: General   \n",
       "561343  Standards Applicable to Generators of HW: General   \n",
       "562481  Standards for Owners and Operators of HW TSDs:...   \n",
       "564951  Standards for Owners and Operators of HW TSDs:...   \n",
       "\n",
       "       VIOL_DETERMINED_BY_AGENCY DATE_VIOLATION_DETERMINED ACTUAL_RTC_DATE  \\\n",
       "872                          S                  06/25/1980      04/20/1995   \n",
       "26778                        S                  12/16/1980      03/19/1984   \n",
       "59903                        E                  12/10/1980      03/29/1981   \n",
       "190822                       E                  12/18/1980      08/27/1981   \n",
       "209168                       E                  12/31/1980      11/10/1981   \n",
       "212754                       S                  12/02/1980      01/28/1981   \n",
       "227342                       E                  12/16/1980      10/03/1981   \n",
       "245843                       E                  08/15/1980      08/14/1984   \n",
       "246116                       E                  12/31/1980      11/10/1981   \n",
       "286903                       S                  12/02/1980      01/28/1981   \n",
       "305308                       S                  12/02/1980      01/28/1981   \n",
       "320250                       E                  12/02/1980      07/16/1981   \n",
       "375743                       E                  12/02/1980      09/14/1981   \n",
       "412587                       E                  11/24/1980      04/30/1981   \n",
       "416228                       S                  01/11/1980      09/01/1982   \n",
       "504173                       E                  06/09/1980      10/09/1980   \n",
       "505383                       E                  12/16/1980      10/03/1981   \n",
       "524198                       E                  12/02/1980      07/16/1981   \n",
       "525355                       S                  01/11/1980      09/01/1982   \n",
       "542425                       E                  11/24/1980      04/30/1981   \n",
       "561343                       E                  12/02/1980      09/14/1981   \n",
       "562481                       E                  12/17/1980      02/07/2002   \n",
       "564951                       S                  12/02/1980      01/28/1981   \n",
       "\n",
       "       SCHEDULED_COMPLIANCE_DATE                            FACILITY_NAME  \\\n",
       "872                   07/05/1980                         B & R MFG CO INC   \n",
       "26778                 03/20/1981  BODYCOTE THERMAL PROCESSING MINNEAPOLIS   \n",
       "59903                 04/11/1981   TOSCO CORP ROCKY FLATS RESEARCH CENTER   \n",
       "190822                08/27/1981                     BERG CHEMICAL CO INC   \n",
       "209168                       NaN            EAGLE PICHER TECHNOLOGIES LLC   \n",
       "212754                       NaN                VICKERY ENVIRONMENTAL INC   \n",
       "227342                       NaN               EVRAZ ROCKY MOUNTAIN STEEL   \n",
       "245843                09/15/1980                AERRCO (JEFFERSON COUNTY)   \n",
       "246116                11/24/1981            EAGLE PICHER TECHNOLOGIES LLC   \n",
       "286903                       NaN                VICKERY ENVIRONMENTAL INC   \n",
       "305308                       NaN                VICKERY ENVIRONMENTAL INC   \n",
       "320250                07/30/1981                            WESTERN FORGE   \n",
       "375743                       NaN                 SCHLAGE LOCK COMPANY LLC   \n",
       "412587                04/30/1981      BPI-WESTMINSTER/HAMILTON SUNDSTRAND   \n",
       "416228                01/11/1980                               ALSIDE INC   \n",
       "504173                       NaN             ENVIROFOCUS TECHNOLOGIES LLC   \n",
       "505383                10/03/1981               EVRAZ ROCKY MOUNTAIN STEEL   \n",
       "524198                       NaN                            WESTERN FORGE   \n",
       "525355                02/11/1980                               ALSIDE INC   \n",
       "542425                       NaN      BPI-WESTMINSTER/HAMILTON SUNDSTRAND   \n",
       "561343                09/23/1981                 SCHLAGE LOCK COMPANY LLC   \n",
       "562481                       NaN                        PETERS J V AND CO   \n",
       "564951                       NaN                VICKERY ENVIRONMENTAL INC   \n",
       "\n",
       "       ACTIVITY_LOCATION_y  ...    ZIP_CODE LATITUDE83 LONGITUDE83  \\\n",
       "872                     CT  ...       06716  41.569438  -72.987484   \n",
       "26778                   MN  ...       55414  44.991524  -93.242039   \n",
       "59903                   CO  ...       80401  39.871254 -105.260476   \n",
       "190822                  NY  ...       10454  40.798516  -73.910807   \n",
       "209168                  CO  ...       80911  38.780687 -104.739006   \n",
       "212754                  OH  ...       43464  41.370750  -82.955888   \n",
       "227342                  CO  ...       81004  38.254167 -104.575000   \n",
       "245843                  CO  ...       80005  39.856829 -105.188521   \n",
       "246116                  CO  ...       80911  38.780687 -104.739006   \n",
       "286903                  OH  ...       43464  41.370750  -82.955888   \n",
       "305308                  OH  ...       43464  41.370750  -82.955888   \n",
       "320250                  CO  ...       80907  38.899427 -104.841306   \n",
       "375743                  CO  ...  80911-1230  38.772658 -104.739286   \n",
       "412587                  CO  ...       80221  39.821881 -105.015718   \n",
       "416228                  OH  ...       44223  41.208333  -81.525000   \n",
       "504173                  FL  ...  33619-2901  27.962565  -82.381893   \n",
       "505383                  CO  ...       81004  38.254167 -104.575000   \n",
       "524198                  CO  ...       80907  38.899427 -104.841306   \n",
       "525355                  OH  ...       44223  41.208333  -81.525000   \n",
       "542425                  CO  ...       80221  39.821881 -105.015718   \n",
       "561343                  CO  ...  80911-1230  38.772658 -104.739286   \n",
       "562481                  OH  ...       44062  41.493976  -81.032679   \n",
       "564951                  OH  ...       43464  41.370750  -82.955888   \n",
       "\n",
       "       FED_WASTE_GENERATOR TRANSPORTER ACTIVE_SITE   OPERATING_TSDF   M   D  \\\n",
       "872                    N           N         -----  ------           06  25   \n",
       "26778                  3           N         H----  ------           12  16   \n",
       "59903                  N           N         -----  ------           12  10   \n",
       "190822                 N           N         -----  ------           12  18   \n",
       "209168                 N           N         --A--  ------           12  31   \n",
       "212754                 1           N         HPA--  ---ST-           12  02   \n",
       "227342                 1           N         HPA--  ------           12  16   \n",
       "245843                 N           N         -----  ------           08  15   \n",
       "246116                 N           N         --A--  ------           12  31   \n",
       "286903                 1           N         HPA--  ---ST-           12  02   \n",
       "305308                 1           N         HPA--  ---ST-           12  02   \n",
       "320250                 1           N         H----  ------           12  02   \n",
       "375743                 1           N         H-A--  ------           12  02   \n",
       "412587                 N           N         --A--  ------           11  24   \n",
       "416228                 N           N         --A--  ------           01  11   \n",
       "504173                 1           N         HPA--  ---S--           06  09   \n",
       "505383                 1           N         HPA--  ------           12  16   \n",
       "524198                 1           N         H----  ------           12  02   \n",
       "525355                 N           N         --A--  ------           01  11   \n",
       "542425                 N           N         --A--  ------           11  24   \n",
       "561343                 1           N         H-A--  ------           12  02   \n",
       "562481                 N           N         -----  ------           12  17   \n",
       "564951                 1           N         HPA--  ---ST-           12  02   \n",
       "\n",
       "           Y  \n",
       "872     1980  \n",
       "26778   1980  \n",
       "59903   1980  \n",
       "190822  1980  \n",
       "209168  1980  \n",
       "212754  1980  \n",
       "227342  1980  \n",
       "245843  1980  \n",
       "246116  1980  \n",
       "286903  1980  \n",
       "305308  1980  \n",
       "320250  1980  \n",
       "375743  1980  \n",
       "412587  1980  \n",
       "416228  1980  \n",
       "504173  1980  \n",
       "505383  1980  \n",
       "524198  1980  \n",
       "525355  1980  \n",
       "542425  1980  \n",
       "561343  1980  \n",
       "562481  1980  \n",
       "564951  1980  \n",
       "\n",
       "[23 rows x 25 columns]"
      ]
     },
     "execution_count": 37,
     "metadata": {},
     "output_type": "execute_result"
    }
   ],
   "source": [
    "df[df.Y == 1980]"
   ]
  },
  {
   "cell_type": "code",
   "execution_count": 38,
   "metadata": {},
   "outputs": [],
   "source": [
    "df[['M','D','Y']] = df['DATE_VIOLATION_DETERMINED'].str.split('/', expand=True)\n",
    "\n",
    "df[['v_cat', 'v_subtype']] = df['VIOLATION_TYPE'].str.split('.', expand=True)"
   ]
  },
  {
   "cell_type": "markdown",
   "metadata": {},
   "source": [
    "map for character violation categories:\n",
    "FEA = 100\n",
    "XXS = 101\n",
    "FFS = 102\n",
    "PCR = 103"
   ]
  },
  {
   "cell_type": "code",
   "execution_count": 39,
   "metadata": {},
   "outputs": [],
   "source": [
    "df['v_cat'] = np.where(df['v_cat'] == 'FEA', 100, df['v_cat'])"
   ]
  },
  {
   "cell_type": "code",
   "execution_count": 40,
   "metadata": {},
   "outputs": [],
   "source": [
    "df['v_cat'] = df.v_cat.apply(lambda x: 101 if x == 'XXS' else x)"
   ]
  },
  {
   "cell_type": "code",
   "execution_count": 54,
   "metadata": {},
   "outputs": [],
   "source": [
    "df['v_cat'] = df.v_cat.apply(lambda x: 102 if x == 'FSS' else x)"
   ]
  },
  {
   "cell_type": "code",
   "execution_count": 42,
   "metadata": {},
   "outputs": [],
   "source": [
    "df['v_cat'] = df.v_cat.apply(lambda x: 103 if x == 'PCR' else x)"
   ]
  },
  {
   "cell_type": "code",
   "execution_count": 55,
   "metadata": {},
   "outputs": [],
   "source": [
    "df['v_cat'] = df.v_cat.apply(pd.to_numeric, errors='ignore')"
   ]
  },
  {
   "cell_type": "code",
   "execution_count": 60,
   "metadata": {},
   "outputs": [],
   "source": [
    "df['jailtime'] = np.where(np.logical_and(df.v_cat >= 260, df.v_cat <= 265), 1, 0)"
   ]
  },
  {
   "cell_type": "code",
   "execution_count": 62,
   "metadata": {},
   "outputs": [
    {
     "data": {
      "text/plain": [
       "0.767591439819644"
      ]
     },
     "execution_count": 62,
     "metadata": {},
     "output_type": "execute_result"
    }
   ],
   "source": [
    "df.jailtime.mean()"
   ]
  },
  {
   "cell_type": "code",
   "execution_count": null,
   "metadata": {},
   "outputs": [],
   "source": []
  }
 ],
 "metadata": {
  "kernelspec": {
   "display_name": "Python 3",
   "language": "python",
   "name": "python3"
  },
  "language_info": {
   "codemirror_mode": {
    "name": "ipython",
    "version": 3
   },
   "file_extension": ".py",
   "mimetype": "text/x-python",
   "name": "python",
   "nbconvert_exporter": "python",
   "pygments_lexer": "ipython3",
   "version": "3.7.3"
  }
 },
 "nbformat": 4,
 "nbformat_minor": 2
}
