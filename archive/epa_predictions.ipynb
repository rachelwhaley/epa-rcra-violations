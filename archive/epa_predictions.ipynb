{
 "cells": [
  {
   "cell_type": "code",
   "execution_count": 3,
   "metadata": {},
   "outputs": [
    {
     "name": "stdout",
     "output_type": "stream",
     "text": [
      "The autoreload extension is already loaded. To reload it, use:\n",
      "  %reload_ext autoreload\n"
     ]
    }
   ],
   "source": [
    "%load_ext autoreload\n",
    "%autoreload 2\n",
    "import numpy as np\n",
    "import pandas as pd\n",
    "import model_analyzer as ma\n",
    "import ml_pipe as ml\n",
    "import combined_features_rachel as cf\n",
    "import epa_pipeline as ep\n",
    "import warnings\n",
    "warnings.filterwarnings('ignore')\n",
    "import acs_implementation as a_i\n",
    "import acs_features as a_f"
   ]
  },
  {
   "cell_type": "code",
   "execution_count": 2,
   "metadata": {},
   "outputs": [
    {
     "name": "stdout",
     "output_type": "stream",
     "text": [
      "evals begin:  2011-01-01 00:00:00\n",
      "evals end:  2019-09-19 00:00:00\n",
      "datetime64[ns]\n",
      "vios begin:  2011-01-03 00:00:00\n",
      "vios end:  2019-09-27 00:00:00\n",
      "SNC begin:  2011-02-01 00:00:00\n",
      "SNC end:  2019-04-01 00:00:00\n"
     ]
    }
   ],
   "source": [
    "facs, evals, vios, snc = ep.temp_holdout_prep('RCRA_FACILITIES.csv', 'RCRA_EVALUATIONS.csv', 'RCRA_VIOLATIONS.csv',\n",
    "                                             'RCRA_VIOSNC_HISTORY.csv', '2011-01-01')"
   ]
  },
  {
   "cell_type": "code",
   "execution_count": 3,
   "metadata": {},
   "outputs": [],
   "source": [
    "trains, tests, train_ends, test_ends = ep.temporal_split(evals, vios, snc)"
   ]
  },
  {
   "cell_type": "code",
   "execution_count": 4,
   "metadata": {},
   "outputs": [
    {
     "ename": "NameError",
     "evalue": "name 'facs' is not defined",
     "traceback": [
      "\u001b[0;31m---------------------------------------------------------------------------\u001b[0m",
      "\u001b[0;31mNameError\u001b[0m                                 Traceback (most recent call last)",
      "\u001b[0;32m<ipython-input-4-4c115c41405b>\u001b[0m in \u001b[0;36m<module>\u001b[0;34m\u001b[0m\n\u001b[1;32m      4\u001b[0m \u001b[0mzip_to_zta_csv\u001b[0m \u001b[0;34m=\u001b[0m \u001b[0;34m'/Users/csolisu/Downloads/zip_to_zcta_2017.xlsx'\u001b[0m\u001b[0;34m\u001b[0m\u001b[0;34m\u001b[0m\u001b[0m\n\u001b[1;32m      5\u001b[0m \u001b[0;34m\u001b[0m\u001b[0m\n\u001b[0;32m----> 6\u001b[0;31m \u001b[0ma\u001b[0m\u001b[0;34m,\u001b[0m\u001b[0mb\u001b[0m \u001b[0;34m=\u001b[0m \u001b[0ma_i\u001b[0m\u001b[0;34m.\u001b[0m\u001b[0mgo\u001b[0m\u001b[0;34m(\u001b[0m\u001b[0mfacs\u001b[0m\u001b[0;34m,\u001b[0m\u001b[0mevals\u001b[0m\u001b[0;34m,\u001b[0m \u001b[0mzip_to_zta_csv\u001b[0m\u001b[0;34m,\u001b[0m\u001b[0mshp_file\u001b[0m\u001b[0;34m)\u001b[0m\u001b[0;34m\u001b[0m\u001b[0;34m\u001b[0m\u001b[0m\n\u001b[0m",
      "\u001b[0;31mNameError\u001b[0m: name 'facs' is not defined"
     ],
     "output_type": "error"
    }
   ],
   "source": [
    "fac ='RCRA_FACILITIES.csv'\n",
    "evalu = 'RCRA_EVALUATIONS.csv'\n",
    "shp_file = '/Users/csolisu/Downloads/tl_2017_us_zcta510/tl_2017_us_zcta510.shp'\n",
    "zip_to_zta_csv = '/Users/csolisu/Downloads/zip_to_zcta_2017.xlsx'\n",
    "\n",
    "a,b = a_i.go(facs,evals, zip_to_zta_csv,shp_file)"
   ]
  },
  {
   "cell_type": "code",
   "execution_count": null,
   "metadata": {},
   "outputs": [],
   "source": []
  },
  {
   "cell_type": "code",
   "execution_count": null,
   "metadata": {},
   "outputs": [],
   "source": [
    "feature_lst = ['ID_NUMBER','population', 'B02001_002E', 'B02001_003E', 'B02001_004E', 'B02001_005E', \n",
    "'B02001_006E', 'B02001_007E', 'B02001_008E', 'B02001_009E', 'B02001_010E', \n",
    "'B11016_002E', 'B11016_003E', 'B11016_004E', 'B11016_005E', 'B11016_006E', \n",
    "'B11016_007E', 'B11016_008E', 'B17026_002E', 'B17026_003E', 'B17026_004E', \n",
    "'B17026_005E', 'B17026_006E', 'B17026_007E', 'B17026_008E', 'B17026_009E', \n",
    "'B17026_010E', 'B17026_011E', 'B17026_012E', 'B17026_013E', 'B19001_002E', \n",
    "'B19001_003E', 'B19001_004E', 'B19001_005E', 'B19001_006E', 'B19001_007E',\n",
    "'B19001_008E', 'B19001_009E', 'B19001_010E', 'B19001_011E', 'B19001_012E', \n",
    "'B19001_013E', 'B19001_014E', 'B19001_015E', 'B19001_016E', 'B19001_017E', \n",
    "'median income', 'C17002_002E', 'C17002_003E', 'C17002_004E', 'C17002_005E',\n",
    "'C17002_006E', 'C17002_007E', 'C17002_008E','white alone', 'black alone', \n",
    "'native alone', 'asian alone', 'pacific alone', 'other alone', 'two or more', \n",
    "'two or more some other', 'less10k', '10kto15k', '15kto20k', '20kto25k', '25kto30k',\n",
    "'30kto35k', '35kto40k', '40kto45k', '1 person', '2 person', '3 person', '4 person', \n",
    "'5 person', '6 person', '7plusperson', 'under_p5_x', 'p5top74', 'p75top99', '1to1p24_x',\n",
    "'1p25to1p49_x', '1p50to1p74', '1p75to1p84', '1p85to1p99_x', 'under_p5_y', 'p5top99', \n",
    "'1to1p24_y', '1p25to1p49_y', '1p50to1p84', '1p85to1p99_y', '2andver']\n",
    "feature_reduced = ['ID_NUMBER','population','black alone', 'median income','under_p5_x']"
   ]
  },
  {
   "cell_type": "code",
   "execution_count": null,
   "metadata": {},
   "outputs": [],
   "source": [
    "list_of_trainx = [x[feature_lst] for x in trains]\n",
    "list_of_trainy = [x['HadViolation'] for x in trains]\n",
    "list_of_testx = [x[feature_lst] for x in tests]\n",
    "list_of_testy = [x['HadViolation'] for x in tests]"
   ]
  },
  {
   "cell_type": "code",
   "execution_count": null,
   "metadata": {},
   "outputs": [],
   "source": [
    "clfs, grid = ml.define_clfs_params('dtandlr_explore')"
   ]
  },
  {
   "cell_type": "code",
   "execution_count": null,
   "metadata": {},
   "outputs": [],
   "source": [
    "thresholds = [.8]"
   ]
  },
  {
   "cell_type": "code",
   "execution_count": null,
   "metadata": {},
   "outputs": [],
   "source": [
    "feats = ml.select_features(features)"
   ]
  },
  {
   "cell_type": "markdown",
   "metadata": {},
   "source": [
    "Now that we have featurs and target variables calculated and seperated into train and test periods, lets run our models!"
   ]
  },
  {
   "cell_type": "code",
   "execution_count": null,
   "metadata": {},
   "outputs": [],
   "source": [
    "predictions, models, metrics = ep.run_models(grid, 'show', trainx, trainy, testx, testy)"
   ]
  },
  {
   "cell_type": "code",
   "execution_count": null,
   "metadata": {},
   "outputs": [],
   "source": []
  },
  {
   "cell_type": "code",
   "execution_count": null,
   "metadata": {},
   "outputs": [],
   "source": []
  }
 ],
 "metadata": {
  "kernelspec": {
   "display_name": "Python 3",
   "language": "python",
   "name": "python3"
  },
  "language_info": {
   "codemirror_mode": {
    "name": "ipython",
    "version": 3
   },
   "file_extension": ".py",
   "mimetype": "text/x-python",
   "name": "python",
   "nbconvert_exporter": "python",
   "pygments_lexer": "ipython3",
   "version": "3.7.3"
  }
 },
 "nbformat": 4,
 "nbformat_minor": 2
}
