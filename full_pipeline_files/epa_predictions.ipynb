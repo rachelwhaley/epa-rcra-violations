{
 "cells": [
  {
   "cell_type": "code",
   "execution_count": 1,
   "metadata": {},
   "outputs": [],
   "source": [
    "%load_ext autoreload\n",
    "%autoreload 2\n",
    "import numpy as np\n",
    "import pandas as pd\n",
    "import model_analyzer as ma\n",
    "import ml_pipe as ml\n",
    "import combined_features_rachel as cf\n",
    "import epa_pipeline as ep\n",
    "import warnings\n",
    "warnings.filterwarnings('ignore')"
   ]
  },
  {
   "cell_type": "code",
   "execution_count": 2,
   "metadata": {},
   "outputs": [
    {
     "name": "stdout",
     "output_type": "stream",
     "text": [
      "evals begin:  2011-01-01 00:00:00\n",
      "evals end:  2019-09-19 00:00:00\n",
      "datetime64[ns]\n",
      "vios begin:  2011-01-03 00:00:00\n",
      "vios end:  2019-09-27 00:00:00\n",
      "SNC begin:  2011-02-01 00:00:00\n",
      "SNC end:  2019-04-01 00:00:00\n"
     ]
    }
   ],
   "source": [
    "facs, evals, vios, snc = ep.temp_holdout_prep('RCRA_FACILITIES.csv', 'RCRA_EVALUATIONS.csv', 'RCRA_VIOLATIONS.csv',\n",
    "                                             'RCRA_VIOSNC_HISTORY.csv', '2011-01-01')"
   ]
  },
  {
   "cell_type": "code",
   "execution_count": 3,
   "metadata": {},
   "outputs": [],
   "source": [
    "trains, tests, train_ends, test_ends = ep.temporal_split(evals, vios, snc)"
   ]
  },
  {
   "cell_type": "code",
   "execution_count": null,
   "metadata": {},
   "outputs": [
    {
     "name": "stdout",
     "output_type": "stream",
     "text": [
      "FINAL INFO FROM snc_info\n",
      "<class 'pandas.core.frame.DataFrame'>\n",
      "Int64Index: 1041254 entries, 0 to 1041253\n",
      "Data columns (total 25 columns):\n",
      "ID_NUMBER                    1041254 non-null object\n",
      "FACILITY_NAME                1041248 non-null object\n",
      "ACTIVITY_LOCATION            1041254 non-null object\n",
      "FULL_ENFORCEMENT             1041254 non-null object\n",
      "HREPORT_UNIVERSE_RECORD      1041157 non-null object\n",
      "STREET_ADDRESS               1041118 non-null object\n",
      "CITY_NAME                    1041152 non-null object\n",
      "STATE_CODE                   1041253 non-null object\n",
      "ZIP_CODE                     1041053 non-null object\n",
      "LATITUDE83                   452581 non-null float64\n",
      "LONGITUDE83                  452581 non-null float64\n",
      "FED_WASTE_GENERATOR          1032663 non-null object\n",
      "TRANSPORTER                  1040960 non-null object\n",
      "ACTIVE_SITE                  1041254 non-null object\n",
      "OPERATING_TSDF               1041254 non-null object\n",
      "EvalCount                    1041254 non-null float64\n",
      "Sum_Violations               1041254 non-null float64\n",
      "PCT_EVALS_FOUND_VIOLATION    1041254 non-null float64\n",
      "PCT_OF_ALL_EVALS             1041254 non-null float64\n",
      "PCT_OF_ALL_VIOLATIONS        1041254 non-null float64\n",
      "NumMonthsSinceEval           1041254 non-null float64\n",
      "IsLQG                        1041254 non-null int64\n",
      "IsTSDF                       1041254 non-null int64\n",
      "SNC_Count                    1041254 non-null float64\n",
      "More_Recent_SNC_Yes          1041254 non-null int64\n",
      "dtypes: float64(9), int64(3), object(13)\n",
      "memory usage: 206.5+ MB\n",
      "None\n",
      "PASSING INTO TIME LATE\n",
      "<class 'pandas.core.frame.DataFrame'>\n",
      "Int64Index: 1041254 entries, 0 to 1041253\n",
      "Data columns (total 30 columns):\n",
      "ID_NUMBER                    1041254 non-null object\n",
      "FACILITY_NAME                1041248 non-null object\n",
      "ACTIVITY_LOCATION            1041254 non-null object\n",
      "FULL_ENFORCEMENT             1041254 non-null object\n",
      "HREPORT_UNIVERSE_RECORD      1041157 non-null object\n",
      "STREET_ADDRESS               1041118 non-null object\n",
      "CITY_NAME                    1041152 non-null object\n",
      "STATE_CODE                   1041253 non-null object\n",
      "ZIP_CODE                     1041053 non-null object\n",
      "LATITUDE83                   452581 non-null float64\n",
      "LONGITUDE83                  452581 non-null float64\n",
      "FED_WASTE_GENERATOR          1032663 non-null object\n",
      "TRANSPORTER                  1040960 non-null object\n",
      "ACTIVE_SITE                  1041254 non-null object\n",
      "OPERATING_TSDF               1041254 non-null object\n",
      "EvalCount                    1041254 non-null float64\n",
      "Sum_Violations               1041254 non-null float64\n",
      "PCT_EVALS_FOUND_VIOLATION    1041254 non-null float64\n",
      "PCT_OF_ALL_EVALS             1041254 non-null float64\n",
      "PCT_OF_ALL_VIOLATIONS        1041254 non-null float64\n",
      "NumMonthsSinceEval           1041254 non-null float64\n",
      "IsLQG                        1041254 non-null int64\n",
      "IsTSDF                       1041254 non-null int64\n",
      "SNC_Count                    1041254 non-null float64\n",
      "More_Recent_SNC_Yes          1041254 non-null int64\n",
      "HasViolation                 1041254 non-null int64\n",
      "HadAnySNC                    1041254 non-null int64\n",
      "Currently_SNC                1041254 non-null int64\n",
      "NumInMyState                 1041254 non-null float64\n",
      "NumInMyZIP                   1041254 non-null float64\n",
      "dtypes: float64(11), int64(6), object(13)\n",
      "memory usage: 246.3+ MB\n",
      "None\n"
     ]
    }
   ],
   "source": []
  },
  {
   "cell_type": "code",
   "execution_count": null,
   "metadata": {},
   "outputs": [],
   "source": []
  },
  {
   "cell_type": "code",
   "execution_count": null,
   "metadata": {},
   "outputs": [],
   "source": [
    "feature_lst = ['ID_NUMBER','population', 'B02001_002E', 'B02001_003E', 'B02001_004E', 'B02001_005E', \n",
    "'B02001_006E', 'B02001_007E', 'B02001_008E', 'B02001_009E', 'B02001_010E', \n",
    "'B11016_002E', 'B11016_003E', 'B11016_004E', 'B11016_005E', 'B11016_006E', \n",
    "'B11016_007E', 'B11016_008E', 'B17026_002E', 'B17026_003E', 'B17026_004E', \n",
    "'B17026_005E', 'B17026_006E', 'B17026_007E', 'B17026_008E', 'B17026_009E', \n",
    "'B17026_010E', 'B17026_011E', 'B17026_012E', 'B17026_013E', 'B19001_002E', \n",
    "'B19001_003E', 'B19001_004E', 'B19001_005E', 'B19001_006E', 'B19001_007E',\n",
    "'B19001_008E', 'B19001_009E', 'B19001_010E', 'B19001_011E', 'B19001_012E', \n",
    "'B19001_013E', 'B19001_014E', 'B19001_015E', 'B19001_016E', 'B19001_017E', \n",
    "'median income', 'C17002_002E', 'C17002_003E', 'C17002_004E', 'C17002_005E',\n",
    "'C17002_006E', 'C17002_007E', 'C17002_008E','white alone', 'black alone', \n",
    "'native alone', 'asian alone', 'pacific alone', 'other alone', 'two or more', \n",
    "'two or more some other', 'less10k', '10kto15k', '15kto20k', '20kto25k', '25kto30k',\n",
    "'30kto35k', '35kto40k', '40kto45k', '1 person', '2 person', '3 person', '4 person', \n",
    "'5 person', '6 person', '7plusperson', 'under_p5_x', 'p5top74', 'p75top99', '1to1p24_x',\n",
    "'1p25to1p49_x', '1p50to1p74', '1p75to1p84', '1p85to1p99_x', 'under_p5_y', 'p5top99', \n",
    "'1to1p24_y', '1p25to1p49_y', '1p50to1p84', '1p85to1p99_y', '2andver']\n",
    "feature_reduced = ['ID_NUMBER','population','black alone', 'median income','under_p5_x']"
   ]
  },
  {
   "cell_type": "code",
   "execution_count": null,
   "metadata": {},
   "outputs": [],
   "source": [
    "list_of_trainx = [x[feature_lst] for x in trains]\n",
    "list_of_trainy = [x['HadViolation'] for x in trains]\n",
    "list_of_testx = [x[feature_lst] for x in tests]\n",
    "list_of_testy = [x['HadViolation'] for x in tests]"
   ]
  },
  {
   "cell_type": "code",
   "execution_count": null,
   "metadata": {},
   "outputs": [],
   "source": [
    "clfs, grid = ml.define_clfs_params('dtandlr_explore')"
   ]
  },
  {
   "cell_type": "code",
   "execution_count": null,
   "metadata": {},
   "outputs": [],
   "source": [
    "thresholds = [.8]"
   ]
  },
  {
   "cell_type": "code",
   "execution_count": null,
   "metadata": {},
   "outputs": [],
   "source": [
    "feats = ml.select_features(features)"
   ]
  },
  {
   "cell_type": "code",
   "execution_count": null,
   "metadata": {},
   "outputs": [],
   "source": [
    "predictions, models, stats = ml.model_analyzer_over_time(clfs, grid, 'show', thresholds, train_xs, train_ys, test_xs, test_ys, feats)"
   ]
  },
  {
   "cell_type": "code",
   "execution_count": null,
   "metadata": {},
   "outputs": [],
   "source": []
  },
  {
   "cell_type": "code",
   "execution_count": null,
   "metadata": {},
   "outputs": [],
   "source": []
  },
  {
   "cell_type": "code",
   "execution_count": null,
   "metadata": {},
   "outputs": [],
   "source": []
  }
 ],
 "metadata": {
  "kernelspec": {
   "display_name": "Python 3",
   "language": "python",
   "name": "python3"
  },
  "language_info": {
   "codemirror_mode": {
    "name": "ipython",
    "version": 3
   },
   "file_extension": ".py",
   "mimetype": "text/x-python",
   "name": "python",
   "nbconvert_exporter": "python",
   "pygments_lexer": "ipython3",
   "version": "3.7.3"
  }
 },
 "nbformat": 4,
 "nbformat_minor": 2
}
