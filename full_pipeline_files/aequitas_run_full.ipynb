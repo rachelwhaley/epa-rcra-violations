{
 "cells": [
  {
   "cell_type": "code",
   "execution_count": 1,
   "metadata": {},
   "outputs": [],
   "source": [
    "import new_pipe\n",
    "import has_violation\n",
    "\n",
    "import seaborn as sns\n",
    "from aequitas.group import Group\n",
    "from aequitas.bias import Bias\n",
    "from aequitas.fairness import Fairness\n",
    "from aequitas.plotting import Plot"
   ]
  },
  {
   "cell_type": "code",
   "execution_count": 2,
   "metadata": {},
   "outputs": [
    {
     "name": "stderr",
     "output_type": "stream",
     "text": [
      "/Users/rachelwhaley/Documents/MPCS/30254-MLPP/project/epa-rcra-violations/full_pipeline_files/has_violation.py:70: FutureWarning: Sorting because non-concatenation axis is not aligned. A future version\n",
      "of pandas will change to not sort by default.\n",
      "\n",
      "To accept the future behavior, pass 'sort=False'.\n",
      "\n",
      "To retain the current behavior and silence the warning, pass 'sort=True'.\n",
      "\n",
      "  prev_vios = pd.concat([prev_vios, vios_this_yr], ignore_index=True)\n"
     ]
    }
   ],
   "source": [
    "df = has_violation.go()  # this is the features dataframe"
   ]
  },
  {
   "cell_type": "code",
   "execution_count": 3,
   "metadata": {},
   "outputs": [
    {
     "data": {
      "text/plain": [
       "(8330032, 43)"
      ]
     },
     "execution_count": 3,
     "metadata": {},
     "output_type": "execute_result"
    }
   ],
   "source": [
    "df.shape"
   ]
  },
  {
   "cell_type": "code",
   "execution_count": 4,
   "metadata": {},
   "outputs": [],
   "source": [
    "features_df = new_pipe.add_acs_features(df)"
   ]
  },
  {
   "cell_type": "code",
   "execution_count": 8,
   "metadata": {},
   "outputs": [
    {
     "name": "stdout",
     "output_type": "stream",
     "text": [
      "<class 'pandas.core.frame.DataFrame'>\n",
      "Int64Index: 8330032 entries, 0 to 8330031\n",
      "Data columns (total 44 columns):\n",
      "ID_NUMBER                              object\n",
      "YEAR_EVALUATED                         int64\n",
      "HasViolation                           float64\n",
      "DAYS_SINCE_VIOLATIONS_IN_ID_NUMBER     float64\n",
      "DAYS_SINCE_VIOLATIONS_IN_STATE_CODE    float64\n",
      "DAYS_SINCE_VIOLATIONS_IN_ZIP_CODE      float64\n",
      "NUMBER_VIOLATIONS_IN_ID_NUMBER         float64\n",
      "NUMBER_VIOLATIONS_IN_STATE_CODE        float64\n",
      "NUMBER_VIOLATIONS_IN_ZIP_CODE          float64\n",
      "IsLQG                                  int64\n",
      "IsTSDF                                 int64\n",
      "NumInMyState                           float64\n",
      "NumInMyZIP                             float64\n",
      "early  ID_NUMBER avg                   float64\n",
      "early  ID_NUMBER sum                   float64\n",
      "early  ID_NUMBER count                 float64\n",
      "last early  ID_NUMBER                  float64\n",
      "early  ZIP_CODE avg                    float64\n",
      "early  ZIP_CODE sum                    float64\n",
      "early  ZIP_CODE count                  float64\n",
      "last early  ZIP_CODE                   float64\n",
      "early  STATE_CODE avg                  float64\n",
      "early  STATE_CODE sum                  float64\n",
      "early  STATE_CODE count                float64\n",
      "last early  STATE_CODE                 float64\n",
      "late  ID_NUMBER avg                    float64\n",
      "late  ID_NUMBER sum                    float64\n",
      "late  ID_NUMBER count                  float64\n",
      "last late  ID_NUMBER                   float64\n",
      "late  ZIP_CODE avg                     float64\n",
      "late  ZIP_CODE sum                     float64\n",
      "late  ZIP_CODE count                   float64\n",
      "last late  ZIP_CODE                    float64\n",
      "late  STATE_CODE avg                   float64\n",
      "late  STATE_CODE sum                   float64\n",
      "late  STATE_CODE count                 float64\n",
      "last late  STATE_CODE                  float64\n",
      "sum_evalID_NUMBER                      float64\n",
      "lastID_NUMBER                          float64\n",
      "sum_evalZIP_CODE                       float64\n",
      "lastZIP_CODE                           float64\n",
      "sum_evalSTATE_CODE                     float64\n",
      "lastSTATE_CODE                         float64\n",
      "acs_year                               int64\n",
      "dtypes: float64(39), int64(4), object(1)\n",
      "memory usage: 2.8+ GB\n"
     ]
    }
   ],
   "source": [
    "df.info()"
   ]
  },
  {
   "cell_type": "code",
   "execution_count": 7,
   "metadata": {},
   "outputs": [],
   "source": [
    "import pandas as pd\n",
    "import epa_pipeline as ep"
   ]
  },
  {
   "cell_type": "code",
   "execution_count": 9,
   "metadata": {},
   "outputs": [],
   "source": [
    "def add_acs_features(df):\n",
    "    acs = pd.read_csv('all_acs_data.csv')\n",
    "    acs['median income'].fillna(0, inplace=True)\n",
    "    acs['median income'] = acs['median income'].apply(lambda x: x if x > 0\n",
    "                                                         else 0)\n",
    "    df['acs_year'] = df['YEAR_EVALUATED'].where(df['YEAR_EVALUATED'] < 2017,\n",
    "                                                   2016)\n",
    "    df = df.merge(acs, left_on=['ID_NUMBER', 'acs_year'], right_on=['ID_NUMBER',\n",
    "                                                                       'year'], how=\"left\")\n",
    "    df.drop('acs_year', axis=1, inplace=True)\n",
    "    df.fillna(0, inplace=True)\n",
    "    return df"
   ]
  },
  {
   "cell_type": "code",
   "execution_count": 10,
   "metadata": {},
   "outputs": [],
   "source": [
    "acs_added_df = add_acs_features(df)"
   ]
  },
  {
   "cell_type": "code",
   "execution_count": null,
   "metadata": {},
   "outputs": [],
   "source": []
  },
  {
   "cell_type": "code",
   "execution_count": 11,
   "metadata": {},
   "outputs": [
    {
     "name": "stdout",
     "output_type": "stream",
     "text": [
      "<class 'pandas.core.frame.DataFrame'>\n",
      "Int64Index: 8330032 entries, 0 to 8330031\n",
      "Data columns (total 70 columns):\n",
      "ID_NUMBER                              object\n",
      "YEAR_EVALUATED                         int64\n",
      "HasViolation                           float64\n",
      "DAYS_SINCE_VIOLATIONS_IN_ID_NUMBER     float64\n",
      "DAYS_SINCE_VIOLATIONS_IN_STATE_CODE    float64\n",
      "DAYS_SINCE_VIOLATIONS_IN_ZIP_CODE      float64\n",
      "NUMBER_VIOLATIONS_IN_ID_NUMBER         float64\n",
      "NUMBER_VIOLATIONS_IN_STATE_CODE        float64\n",
      "NUMBER_VIOLATIONS_IN_ZIP_CODE          float64\n",
      "IsLQG                                  int64\n",
      "IsTSDF                                 int64\n",
      "NumInMyState                           float64\n",
      "NumInMyZIP                             float64\n",
      "early  ID_NUMBER avg                   float64\n",
      "early  ID_NUMBER sum                   float64\n",
      "early  ID_NUMBER count                 float64\n",
      "last early  ID_NUMBER                  float64\n",
      "early  ZIP_CODE avg                    float64\n",
      "early  ZIP_CODE sum                    float64\n",
      "early  ZIP_CODE count                  float64\n",
      "last early  ZIP_CODE                   float64\n",
      "early  STATE_CODE avg                  float64\n",
      "early  STATE_CODE sum                  float64\n",
      "early  STATE_CODE count                float64\n",
      "last early  STATE_CODE                 float64\n",
      "late  ID_NUMBER avg                    float64\n",
      "late  ID_NUMBER sum                    float64\n",
      "late  ID_NUMBER count                  float64\n",
      "last late  ID_NUMBER                   float64\n",
      "late  ZIP_CODE avg                     float64\n",
      "late  ZIP_CODE sum                     float64\n",
      "late  ZIP_CODE count                   float64\n",
      "last late  ZIP_CODE                    float64\n",
      "late  STATE_CODE avg                   float64\n",
      "late  STATE_CODE sum                   float64\n",
      "late  STATE_CODE count                 float64\n",
      "last late  STATE_CODE                  float64\n",
      "sum_evalID_NUMBER                      float64\n",
      "lastID_NUMBER                          float64\n",
      "sum_evalZIP_CODE                       float64\n",
      "lastZIP_CODE                           float64\n",
      "sum_evalSTATE_CODE                     float64\n",
      "lastSTATE_CODE                         float64\n",
      "Unnamed: 0                             float64\n",
      "year                                   float64\n",
      "population                             float64\n",
      "median income                          float64\n",
      "white alone                            float64\n",
      "black alone                            float64\n",
      "native alone                           float64\n",
      "asian alone                            float64\n",
      "pacific alone                          float64\n",
      "other alone                            float64\n",
      "two or more                            float64\n",
      "two or more some other                 float64\n",
      "under_p5_x                             float64\n",
      "p5top74                                float64\n",
      "p75top99                               float64\n",
      "1to1p24_x                              float64\n",
      "1p25to1p49_x                           float64\n",
      "1p50to1p74                             float64\n",
      "1p75to1p84                             float64\n",
      "1p85to1p99_x                           float64\n",
      "under_p5_y                             float64\n",
      "p5top99                                float64\n",
      "1to1p24_y                              float64\n",
      "1p25to1p49_y                           float64\n",
      "1p50to1p84                             float64\n",
      "1p85to1p99_y                           float64\n",
      "2andver                                float64\n",
      "dtypes: float64(66), int64(3), object(1)\n",
      "memory usage: 4.4+ GB\n"
     ]
    }
   ],
   "source": [
    "acs_added_df.info()"
   ]
  },
  {
   "cell_type": "code",
   "execution_count": 12,
   "metadata": {},
   "outputs": [],
   "source": [
    "preds = pd.read_csv(\"predictions1.csv\")"
   ]
  },
  {
   "cell_type": "code",
   "execution_count": 13,
   "metadata": {},
   "outputs": [
    {
     "data": {
      "text/plain": [
       "(1042512, 17)"
      ]
     },
     "execution_count": 13,
     "metadata": {},
     "output_type": "execute_result"
    }
   ],
   "source": [
    "preds.shape"
   ]
  },
  {
   "cell_type": "code",
   "execution_count": 17,
   "metadata": {},
   "outputs": [],
   "source": [
    "preds_all = preds.merge(acs_added_df, left_index=True, right_index=True)"
   ]
  },
  {
   "cell_type": "code",
   "execution_count": 18,
   "metadata": {},
   "outputs": [
    {
     "data": {
      "text/plain": [
       "(1042512, 87)"
      ]
     },
     "execution_count": 18,
     "metadata": {},
     "output_type": "execute_result"
    }
   ],
   "source": [
    "preds_all.shape"
   ]
  },
  {
   "cell_type": "code",
   "execution_count": 19,
   "metadata": {},
   "outputs": [
    {
     "name": "stdout",
     "output_type": "stream",
     "text": [
      "<class 'pandas.core.frame.DataFrame'>\n",
      "Int64Index: 1042512 entries, 0 to 1042511\n",
      "Data columns (total 87 columns):\n",
      "Unnamed: 0_x                                                                                                       1042512 non-null int64\n",
      "DT{'min_samples_split': 2, 'criterion': 'gini', 'max_depth': 1}_at_0.2pct                                          1042512 non-null int64\n",
      "truth                                                                                                              1042512 non-null float64\n",
      "DT{'min_samples_split': 2, 'criterion': 'gini', 'max_depth': 5}_at_0.2pct                                          1042512 non-null int64\n",
      "truth.1                                                                                                            1042512 non-null float64\n",
      "DT{'min_samples_split': 2, 'criterion': 'gini', 'max_depth': None}_at_0.2pct                                       1042512 non-null int64\n",
      "truth.2                                                                                                            1042512 non-null float64\n",
      "DT{'min_samples_split': 2, 'criterion': 'entropy', 'max_depth': 1}_at_0.2pct                                       1042512 non-null int64\n",
      "truth.3                                                                                                            1042512 non-null float64\n",
      "DT{'min_samples_split': 2, 'criterion': 'entropy', 'max_depth': 5}_at_0.2pct                                       1042512 non-null int64\n",
      "truth.4                                                                                                            1042512 non-null float64\n",
      "DT{'min_samples_split': 2, 'criterion': 'entropy', 'max_depth': None}_at_0.2pct                                    1042512 non-null int64\n",
      "truth.5                                                                                                            1042512 non-null float64\n",
      "AB{'algorithm': 'SAMME', 'n_estimators': 10}_at_0.2pct                                                             1042512 non-null int64\n",
      "truth.6                                                                                                            1042512 non-null float64\n",
      "RF{'min_samples_split': 10, 'max_depth': 5, 'n_estimators': 10, 'n_jobs': -1, 'max_features': 'sqrt'}_at_0.2pct    1042512 non-null int64\n",
      "truth.7                                                                                                            1042512 non-null float64\n",
      "ID_NUMBER                                                                                                          1042512 non-null object\n",
      "YEAR_EVALUATED                                                                                                     1042512 non-null int64\n",
      "HasViolation                                                                                                       1042512 non-null float64\n",
      "DAYS_SINCE_VIOLATIONS_IN_ID_NUMBER                                                                                 1042512 non-null float64\n",
      "DAYS_SINCE_VIOLATIONS_IN_STATE_CODE                                                                                1042512 non-null float64\n",
      "DAYS_SINCE_VIOLATIONS_IN_ZIP_CODE                                                                                  1042512 non-null float64\n",
      "NUMBER_VIOLATIONS_IN_ID_NUMBER                                                                                     1042512 non-null float64\n",
      "NUMBER_VIOLATIONS_IN_STATE_CODE                                                                                    1042512 non-null float64\n",
      "NUMBER_VIOLATIONS_IN_ZIP_CODE                                                                                      1042512 non-null float64\n",
      "IsLQG                                                                                                              1042512 non-null int64\n",
      "IsTSDF                                                                                                             1042512 non-null int64\n",
      "NumInMyState                                                                                                       1042512 non-null float64\n",
      "NumInMyZIP                                                                                                         1042512 non-null float64\n",
      "early  ID_NUMBER avg                                                                                               1042512 non-null float64\n",
      "early  ID_NUMBER sum                                                                                               1042512 non-null float64\n",
      "early  ID_NUMBER count                                                                                             1042512 non-null float64\n",
      "last early  ID_NUMBER                                                                                              1042512 non-null float64\n",
      "early  ZIP_CODE avg                                                                                                1042512 non-null float64\n",
      "early  ZIP_CODE sum                                                                                                1042512 non-null float64\n",
      "early  ZIP_CODE count                                                                                              1042512 non-null float64\n",
      "last early  ZIP_CODE                                                                                               1042512 non-null float64\n",
      "early  STATE_CODE avg                                                                                              1042512 non-null float64\n",
      "early  STATE_CODE sum                                                                                              1042512 non-null float64\n",
      "early  STATE_CODE count                                                                                            1042512 non-null float64\n",
      "last early  STATE_CODE                                                                                             1042512 non-null float64\n",
      "late  ID_NUMBER avg                                                                                                1042512 non-null float64\n",
      "late  ID_NUMBER sum                                                                                                1042512 non-null float64\n",
      "late  ID_NUMBER count                                                                                              1042512 non-null float64\n",
      "last late  ID_NUMBER                                                                                               1042512 non-null float64\n",
      "late  ZIP_CODE avg                                                                                                 1042512 non-null float64\n",
      "late  ZIP_CODE sum                                                                                                 1042512 non-null float64\n",
      "late  ZIP_CODE count                                                                                               1042512 non-null float64\n",
      "last late  ZIP_CODE                                                                                                1042512 non-null float64\n",
      "late  STATE_CODE avg                                                                                               1042512 non-null float64\n",
      "late  STATE_CODE sum                                                                                               1042512 non-null float64\n",
      "late  STATE_CODE count                                                                                             1042512 non-null float64\n",
      "last late  STATE_CODE                                                                                              1042512 non-null float64\n",
      "sum_evalID_NUMBER                                                                                                  1042512 non-null float64\n",
      "lastID_NUMBER                                                                                                      1042512 non-null float64\n",
      "sum_evalZIP_CODE                                                                                                   1042512 non-null float64\n",
      "lastZIP_CODE                                                                                                       1042512 non-null float64\n",
      "sum_evalSTATE_CODE                                                                                                 1042512 non-null float64\n",
      "lastSTATE_CODE                                                                                                     1042512 non-null float64\n",
      "Unnamed: 0_y                                                                                                       1042512 non-null float64\n",
      "year                                                                                                               1042512 non-null float64\n",
      "population                                                                                                         1042512 non-null float64\n",
      "median income                                                                                                      1042512 non-null float64\n",
      "white alone                                                                                                        1042512 non-null float64\n",
      "black alone                                                                                                        1042512 non-null float64\n",
      "native alone                                                                                                       1042512 non-null float64\n",
      "asian alone                                                                                                        1042512 non-null float64\n",
      "pacific alone                                                                                                      1042512 non-null float64\n",
      "other alone                                                                                                        1042512 non-null float64\n",
      "two or more                                                                                                        1042512 non-null float64\n",
      "two or more some other                                                                                             1042512 non-null float64\n",
      "under_p5_x                                                                                                         1042512 non-null float64\n",
      "p5top74                                                                                                            1042512 non-null float64\n",
      "p75top99                                                                                                           1042512 non-null float64\n",
      "1to1p24_x                                                                                                          1042512 non-null float64\n",
      "1p25to1p49_x                                                                                                       1042512 non-null float64\n",
      "1p50to1p74                                                                                                         1042512 non-null float64\n",
      "1p75to1p84                                                                                                         1042512 non-null float64\n",
      "1p85to1p99_x                                                                                                       1042512 non-null float64\n",
      "under_p5_y                                                                                                         1042512 non-null float64\n",
      "p5top99                                                                                                            1042512 non-null float64\n",
      "1to1p24_y                                                                                                          1042512 non-null float64\n",
      "1p25to1p49_y                                                                                                       1042512 non-null float64\n",
      "1p50to1p84                                                                                                         1042512 non-null float64\n",
      "1p85to1p99_y                                                                                                       1042512 non-null float64\n",
      "2andver                                                                                                            1042512 non-null float64\n",
      "dtypes: float64(74), int64(12), object(1)\n",
      "memory usage: 699.9+ MB\n"
     ]
    }
   ],
   "source": [
    "preds_all.info()"
   ]
  },
  {
   "cell_type": "code",
   "execution_count": 20,
   "metadata": {},
   "outputs": [],
   "source": [
    "preds_all.fillna(0, inplace=True)"
   ]
  },
  {
   "cell_type": "code",
   "execution_count": 21,
   "metadata": {},
   "outputs": [
    {
     "name": "stdout",
     "output_type": "stream",
     "text": [
      "<class 'pandas.core.frame.DataFrame'>\n",
      "Int64Index: 1042512 entries, 0 to 1042511\n",
      "Data columns (total 87 columns):\n",
      "Unnamed: 0_x                                                                                                       1042512 non-null int64\n",
      "DT{'min_samples_split': 2, 'criterion': 'gini', 'max_depth': 1}_at_0.2pct                                          1042512 non-null int64\n",
      "truth                                                                                                              1042512 non-null float64\n",
      "DT{'min_samples_split': 2, 'criterion': 'gini', 'max_depth': 5}_at_0.2pct                                          1042512 non-null int64\n",
      "truth.1                                                                                                            1042512 non-null float64\n",
      "DT{'min_samples_split': 2, 'criterion': 'gini', 'max_depth': None}_at_0.2pct                                       1042512 non-null int64\n",
      "truth.2                                                                                                            1042512 non-null float64\n",
      "DT{'min_samples_split': 2, 'criterion': 'entropy', 'max_depth': 1}_at_0.2pct                                       1042512 non-null int64\n",
      "truth.3                                                                                                            1042512 non-null float64\n",
      "DT{'min_samples_split': 2, 'criterion': 'entropy', 'max_depth': 5}_at_0.2pct                                       1042512 non-null int64\n",
      "truth.4                                                                                                            1042512 non-null float64\n",
      "DT{'min_samples_split': 2, 'criterion': 'entropy', 'max_depth': None}_at_0.2pct                                    1042512 non-null int64\n",
      "truth.5                                                                                                            1042512 non-null float64\n",
      "AB{'algorithm': 'SAMME', 'n_estimators': 10}_at_0.2pct                                                             1042512 non-null int64\n",
      "truth.6                                                                                                            1042512 non-null float64\n",
      "RF{'min_samples_split': 10, 'max_depth': 5, 'n_estimators': 10, 'n_jobs': -1, 'max_features': 'sqrt'}_at_0.2pct    1042512 non-null int64\n",
      "truth.7                                                                                                            1042512 non-null float64\n",
      "ID_NUMBER                                                                                                          1042512 non-null object\n",
      "YEAR_EVALUATED                                                                                                     1042512 non-null int64\n",
      "HasViolation                                                                                                       1042512 non-null float64\n",
      "DAYS_SINCE_VIOLATIONS_IN_ID_NUMBER                                                                                 1042512 non-null float64\n",
      "DAYS_SINCE_VIOLATIONS_IN_STATE_CODE                                                                                1042512 non-null float64\n",
      "DAYS_SINCE_VIOLATIONS_IN_ZIP_CODE                                                                                  1042512 non-null float64\n",
      "NUMBER_VIOLATIONS_IN_ID_NUMBER                                                                                     1042512 non-null float64\n",
      "NUMBER_VIOLATIONS_IN_STATE_CODE                                                                                    1042512 non-null float64\n",
      "NUMBER_VIOLATIONS_IN_ZIP_CODE                                                                                      1042512 non-null float64\n",
      "IsLQG                                                                                                              1042512 non-null int64\n",
      "IsTSDF                                                                                                             1042512 non-null int64\n",
      "NumInMyState                                                                                                       1042512 non-null float64\n",
      "NumInMyZIP                                                                                                         1042512 non-null float64\n",
      "early  ID_NUMBER avg                                                                                               1042512 non-null float64\n",
      "early  ID_NUMBER sum                                                                                               1042512 non-null float64\n",
      "early  ID_NUMBER count                                                                                             1042512 non-null float64\n",
      "last early  ID_NUMBER                                                                                              1042512 non-null float64\n",
      "early  ZIP_CODE avg                                                                                                1042512 non-null float64\n",
      "early  ZIP_CODE sum                                                                                                1042512 non-null float64\n",
      "early  ZIP_CODE count                                                                                              1042512 non-null float64\n",
      "last early  ZIP_CODE                                                                                               1042512 non-null float64\n",
      "early  STATE_CODE avg                                                                                              1042512 non-null float64\n",
      "early  STATE_CODE sum                                                                                              1042512 non-null float64\n",
      "early  STATE_CODE count                                                                                            1042512 non-null float64\n",
      "last early  STATE_CODE                                                                                             1042512 non-null float64\n",
      "late  ID_NUMBER avg                                                                                                1042512 non-null float64\n",
      "late  ID_NUMBER sum                                                                                                1042512 non-null float64\n",
      "late  ID_NUMBER count                                                                                              1042512 non-null float64\n",
      "last late  ID_NUMBER                                                                                               1042512 non-null float64\n",
      "late  ZIP_CODE avg                                                                                                 1042512 non-null float64\n",
      "late  ZIP_CODE sum                                                                                                 1042512 non-null float64\n",
      "late  ZIP_CODE count                                                                                               1042512 non-null float64\n",
      "last late  ZIP_CODE                                                                                                1042512 non-null float64\n",
      "late  STATE_CODE avg                                                                                               1042512 non-null float64\n",
      "late  STATE_CODE sum                                                                                               1042512 non-null float64\n",
      "late  STATE_CODE count                                                                                             1042512 non-null float64\n",
      "last late  STATE_CODE                                                                                              1042512 non-null float64\n",
      "sum_evalID_NUMBER                                                                                                  1042512 non-null float64\n",
      "lastID_NUMBER                                                                                                      1042512 non-null float64\n",
      "sum_evalZIP_CODE                                                                                                   1042512 non-null float64\n",
      "lastZIP_CODE                                                                                                       1042512 non-null float64\n",
      "sum_evalSTATE_CODE                                                                                                 1042512 non-null float64\n",
      "lastSTATE_CODE                                                                                                     1042512 non-null float64\n",
      "Unnamed: 0_y                                                                                                       1042512 non-null float64\n",
      "year                                                                                                               1042512 non-null float64\n",
      "population                                                                                                         1042512 non-null float64\n",
      "median income                                                                                                      1042512 non-null float64\n",
      "white alone                                                                                                        1042512 non-null float64\n",
      "black alone                                                                                                        1042512 non-null float64\n",
      "native alone                                                                                                       1042512 non-null float64\n",
      "asian alone                                                                                                        1042512 non-null float64\n",
      "pacific alone                                                                                                      1042512 non-null float64\n",
      "other alone                                                                                                        1042512 non-null float64\n",
      "two or more                                                                                                        1042512 non-null float64\n",
      "two or more some other                                                                                             1042512 non-null float64\n",
      "under_p5_x                                                                                                         1042512 non-null float64\n",
      "p5top74                                                                                                            1042512 non-null float64\n",
      "p75top99                                                                                                           1042512 non-null float64\n",
      "1to1p24_x                                                                                                          1042512 non-null float64\n",
      "1p25to1p49_x                                                                                                       1042512 non-null float64\n",
      "1p50to1p74                                                                                                         1042512 non-null float64\n",
      "1p75to1p84                                                                                                         1042512 non-null float64\n",
      "1p85to1p99_x                                                                                                       1042512 non-null float64\n",
      "under_p5_y                                                                                                         1042512 non-null float64\n",
      "p5top99                                                                                                            1042512 non-null float64\n",
      "1to1p24_y                                                                                                          1042512 non-null float64\n",
      "1p25to1p49_y                                                                                                       1042512 non-null float64\n",
      "1p50to1p84                                                                                                         1042512 non-null float64\n",
      "1p85to1p99_y                                                                                                       1042512 non-null float64\n",
      "2andver                                                                                                            1042512 non-null float64\n",
      "dtypes: float64(74), int64(12), object(1)\n",
      "memory usage: 699.9+ MB\n"
     ]
    }
   ],
   "source": [
    "preds_all.info()"
   ]
  },
  {
   "cell_type": "code",
   "execution_count": 22,
   "metadata": {},
   "outputs": [],
   "source": [
    "preds_all[\"families_under_poverty_line\"] = preds_all[\"under_p5_x\"] + preds_all[\"p5top74\"] + preds_all[\"p75top99\"] "
   ]
  },
  {
   "cell_type": "code",
   "execution_count": 23,
   "metadata": {},
   "outputs": [],
   "source": [
    "rf_for_aequitas = preds_all.filter([\"RF{'min_samples_split': 10, 'max_depth': 5, 'n_estimators': 10, 'n_jobs': -1, 'max_features': 'sqrt'}_at_0.2pct\", \"truth.7\", \"median income\", \"black alone\", \"native alone\", \"p75top99\"])"
   ]
  },
  {
   "cell_type": "code",
   "execution_count": 24,
   "metadata": {},
   "outputs": [
    {
     "data": {
      "text/plain": [
       "(1042512, 6)"
      ]
     },
     "execution_count": 24,
     "metadata": {},
     "output_type": "execute_result"
    }
   ],
   "source": [
    "rf_for_aequitas.shape"
   ]
  },
  {
   "cell_type": "code",
   "execution_count": 27,
   "metadata": {},
   "outputs": [
    {
     "name": "stdout",
     "output_type": "stream",
     "text": [
      "<class 'pandas.core.frame.DataFrame'>\n",
      "Int64Index: 1042512 entries, 0 to 1042511\n",
      "Data columns (total 6 columns):\n",
      "RF{'min_samples_split': 10, 'max_depth': 5, 'n_estimators': 10, 'n_jobs': -1, 'max_features': 'sqrt'}_at_0.2pct    1042512 non-null int64\n",
      "truth.7                                                                                                            1042512 non-null float64\n",
      "median income                                                                                                      1042512 non-null float64\n",
      "black alone                                                                                                        1042512 non-null float64\n",
      "native alone                                                                                                       1042512 non-null float64\n",
      "p75top99                                                                                                           1042512 non-null float64\n",
      "dtypes: float64(5), int64(1)\n",
      "memory usage: 55.7 MB\n"
     ]
    }
   ],
   "source": [
    "rf_for_aequitas.info()"
   ]
  },
  {
   "cell_type": "code",
   "execution_count": 31,
   "metadata": {},
   "outputs": [],
   "source": [
    "rf_for_aequitas = rf_for_aequitas.rename(columns={\"RF{'min_samples_split': 10, 'max_depth': 5, 'n_estimators': 10, 'n_jobs': -1, 'max_features': 'sqrt'}_at_0.2pct\": \"score\", \"truth.7\":\"label_value\"})\n"
   ]
  },
  {
   "cell_type": "code",
   "execution_count": 32,
   "metadata": {},
   "outputs": [],
   "source": [
    "rf_for_aequitas[\"label_value\"] = rf_for_aequitas[\"label_value\"].astype(int)"
   ]
  },
  {
   "cell_type": "code",
   "execution_count": 33,
   "metadata": {},
   "outputs": [
    {
     "ename": "Exception",
     "evalue": "get_crosstabs: input df was not preprocessed. There are non-string cols within attr_cols!",
     "output_type": "error",
     "traceback": [
      "\u001b[0;31m---------------------------------------------------------------------------\u001b[0m",
      "\u001b[0;31mException\u001b[0m                                 Traceback (most recent call last)",
      "\u001b[0;32m<ipython-input-33-cabbd456d81b>\u001b[0m in \u001b[0;36m<module>\u001b[0;34m()\u001b[0m\n\u001b[1;32m      1\u001b[0m \u001b[0mg\u001b[0m \u001b[0;34m=\u001b[0m \u001b[0mGroup\u001b[0m\u001b[0;34m(\u001b[0m\u001b[0;34m)\u001b[0m\u001b[0;34m\u001b[0m\u001b[0m\n\u001b[0;32m----> 2\u001b[0;31m \u001b[0mxtab\u001b[0m\u001b[0;34m,\u001b[0m \u001b[0m_\u001b[0m \u001b[0;34m=\u001b[0m \u001b[0mg\u001b[0m\u001b[0;34m.\u001b[0m\u001b[0mget_crosstabs\u001b[0m\u001b[0;34m(\u001b[0m\u001b[0mrf_for_aequitas\u001b[0m\u001b[0;34m)\u001b[0m\u001b[0;34m\u001b[0m\u001b[0m\n\u001b[0m",
      "\u001b[0;32m/usr/local/lib/python3.7/site-packages/aequitas/group.py\u001b[0m in \u001b[0;36mget_crosstabs\u001b[0;34m(self, df, score_thresholds, model_id, attr_cols)\u001b[0m\n\u001b[1;32m    135\u001b[0m         \u001b[0mnon_string_cols\u001b[0m \u001b[0;34m=\u001b[0m \u001b[0mdf\u001b[0m\u001b[0;34m.\u001b[0m\u001b[0mcolumns\u001b[0m\u001b[0;34m[\u001b[0m\u001b[0;34m(\u001b[0m\u001b[0mdf\u001b[0m\u001b[0;34m.\u001b[0m\u001b[0mdtypes\u001b[0m \u001b[0;34m!=\u001b[0m \u001b[0mobject\u001b[0m\u001b[0;34m)\u001b[0m \u001b[0;34m&\u001b[0m \u001b[0;34m(\u001b[0m\u001b[0mdf\u001b[0m\u001b[0;34m.\u001b[0m\u001b[0mdtypes\u001b[0m \u001b[0;34m!=\u001b[0m \u001b[0mstr\u001b[0m\u001b[0;34m)\u001b[0m \u001b[0;34m&\u001b[0m \u001b[0;34m(\u001b[0m\u001b[0mdf\u001b[0m\u001b[0;34m.\u001b[0m\u001b[0mcolumns\u001b[0m\u001b[0;34m.\u001b[0m\u001b[0misin\u001b[0m\u001b[0;34m(\u001b[0m\u001b[0mattr_cols\u001b[0m\u001b[0;34m)\u001b[0m\u001b[0;34m)\u001b[0m\u001b[0;34m]\u001b[0m\u001b[0;34m\u001b[0m\u001b[0m\n\u001b[1;32m    136\u001b[0m         \u001b[0;32mif\u001b[0m \u001b[0mnon_string_cols\u001b[0m\u001b[0;34m.\u001b[0m\u001b[0mempty\u001b[0m \u001b[0;32mis\u001b[0m \u001b[0;32mFalse\u001b[0m\u001b[0;34m:\u001b[0m\u001b[0;34m\u001b[0m\u001b[0m\n\u001b[0;32m--> 137\u001b[0;31m             \u001b[0;32mraise\u001b[0m \u001b[0mException\u001b[0m\u001b[0;34m(\u001b[0m\u001b[0;34m'get_crosstabs: input df was not preprocessed. There are non-string cols within attr_cols!'\u001b[0m\u001b[0;34m)\u001b[0m\u001b[0;34m\u001b[0m\u001b[0m\n\u001b[0m\u001b[1;32m    138\u001b[0m \u001b[0;34m\u001b[0m\u001b[0m\n\u001b[1;32m    139\u001b[0m         \u001b[0;31m# if no score_thresholds are provided, we assume that rank_abs=number of 1s in the score column\u001b[0m\u001b[0;34m\u001b[0m\u001b[0;34m\u001b[0m\u001b[0m\n",
      "\u001b[0;31mException\u001b[0m: get_crosstabs: input df was not preprocessed. There are non-string cols within attr_cols!"
     ]
    }
   ],
   "source": [
    "g = Group()\n",
    "xtab, _ = g.get_crosstabs(rf_for_aequitas)"
   ]
  },
  {
   "cell_type": "code",
   "execution_count": null,
   "metadata": {},
   "outputs": [],
   "source": []
  }
 ],
 "metadata": {
  "kernelspec": {
   "display_name": "Python 3",
   "language": "python",
   "name": "python3"
  },
  "language_info": {
   "codemirror_mode": {
    "name": "ipython",
    "version": 3
   },
   "file_extension": ".py",
   "mimetype": "text/x-python",
   "name": "python",
   "nbconvert_exporter": "python",
   "pygments_lexer": "ipython3",
   "version": "3.7.0"
  }
 },
 "nbformat": 4,
 "nbformat_minor": 2
}
